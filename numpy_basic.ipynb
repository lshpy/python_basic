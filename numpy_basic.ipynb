{
  "nbformat": 4,
  "nbformat_minor": 0,
  "metadata": {
    "colab": {
      "provenance": [],
      "authorship_tag": "ABX9TyMUdlFDeK0BJ1pDpXCeLzR4",
      "include_colab_link": true
    },
    "kernelspec": {
      "name": "python3",
      "display_name": "Python 3"
    },
    "language_info": {
      "name": "python"
    }
  },
  "cells": [
    {
      "cell_type": "markdown",
      "metadata": {
        "id": "view-in-github",
        "colab_type": "text"
      },
      "source": [
        "<a href=\"https://colab.research.google.com/github/lshpy/python_basic/blob/main/numpy_basic.ipynb\" target=\"_parent\"><img src=\"https://colab.research.google.com/assets/colab-badge.svg\" alt=\"Open In Colab\"/></a>"
      ]
    },
    {
      "cell_type": "markdown",
      "source": [
        "# 모듈과 패키지\n"
      ],
      "metadata": {
        "id": "bZA7K4EtyNzu"
      }
    },
    {
      "cell_type": "code",
      "source": [
        "# 모듈은 변수, 함수, 클래스를 담고 있는 파일 (.py)\n",
        "# 패키지는 여러 모듈을 담은 것\n",
        "\n",
        "# import 모듈\n",
        "# 모듈. 변수\n",
        "# 모듈.함수()\n",
        "# 모듈. 클래스()\n"
      ],
      "metadata": {
        "id": "JpvyTJ-2yPZ2"
      },
      "execution_count": null,
      "outputs": []
    },
    {
      "cell_type": "code",
      "source": [
        "import torch"
      ],
      "metadata": {
        "id": "nTIviqlvy6uA"
      },
      "execution_count": null,
      "outputs": []
    },
    {
      "cell_type": "code",
      "source": [
        "import math\n",
        "\n",
        "print(math.pi)\n",
        "# print(pi) # 모듈 안의 변수이기 때문에 그냥은 없음"
      ],
      "metadata": {
        "colab": {
          "base_uri": "https://localhost:8080/"
        },
        "id": "VoC7E_pTy1uM",
        "outputId": "3af87b3c-4e56-4986-f9b8-565c7b3c7616"
      },
      "execution_count": null,
      "outputs": [
        {
          "output_type": "stream",
          "name": "stdout",
          "text": [
            "3.141592653589793\n"
          ]
        }
      ]
    },
    {
      "cell_type": "code",
      "source": [
        "import math as m # 모듈의 이름을 간소화하자\n",
        "\n",
        "print(m.pi)"
      ],
      "metadata": {
        "colab": {
          "base_uri": "https://localhost:8080/"
        },
        "id": "4H5ehII4zKao",
        "outputId": "8efc7ff8-de83-4628-cdd8-d0ff91b0be85"
      },
      "execution_count": null,
      "outputs": [
        {
          "output_type": "stream",
          "name": "stdout",
          "text": [
            "3.141592653589793\n"
          ]
        }
      ]
    },
    {
      "cell_type": "code",
      "source": [
        "from math import pi, sqrt\n",
        "\n",
        "print(pi)\n",
        "print(sqrt(4))\n",
        "# 여기서는 그냥 함수이름만 가지고도 사용 가능"
      ],
      "metadata": {
        "colab": {
          "base_uri": "https://localhost:8080/"
        },
        "id": "-J0cxoNA0R8z",
        "outputId": "8b385f8f-3e66-4ca9-f521-ebf145184d9f"
      },
      "execution_count": null,
      "outputs": [
        {
          "output_type": "stream",
          "name": "stdout",
          "text": [
            "3.141592653589793\n",
            "2.0\n"
          ]
        }
      ]
    },
    {
      "cell_type": "code",
      "source": [
        "from math import * # 다가지고 와\n",
        "\n",
        "\n",
        "print(pi)\n",
        "print(sin(pi))"
      ],
      "metadata": {
        "colab": {
          "base_uri": "https://localhost:8080/"
        },
        "id": "6Zz-TBjj0iEz",
        "outputId": "b86273db-50cf-4050-d313-f9bac194bc4d"
      },
      "execution_count": null,
      "outputs": [
        {
          "output_type": "stream",
          "name": "stdout",
          "text": [
            "3.141592653589793\n",
            "1.2246467991473532e-16\n"
          ]
        }
      ]
    },
    {
      "cell_type": "code",
      "source": [
        "from math import sqrt as s\n",
        "print(s(9))"
      ],
      "metadata": {
        "colab": {
          "base_uri": "https://localhost:8080/"
        },
        "id": "Lkg1tfOF0sEy",
        "outputId": "df9ac00c-d14f-47f4-fa28-8b02fba3e254"
      },
      "execution_count": null,
      "outputs": [
        {
          "output_type": "stream",
          "name": "stdout",
          "text": [
            "3.0\n"
          ]
        }
      ]
    },
    {
      "cell_type": "code",
      "source": [
        "from math import sqrt as s,  pi as p # 2개도 가능\n",
        "print(p)\n",
        "print(s(9))\n"
      ],
      "metadata": {
        "colab": {
          "base_uri": "https://localhost:8080/"
        },
        "id": "siqFO4jP0yP1",
        "outputId": "3aa70e44-366a-440d-d41d-2f4f6dce48d4"
      },
      "execution_count": null,
      "outputs": [
        {
          "output_type": "stream",
          "name": "stdout",
          "text": [
            "3.141592653589793\n",
            "3.0\n"
          ]
        }
      ]
    },
    {
      "cell_type": "code",
      "source": [
        "#import 패키지\n",
        "#imprt 패키지, 모듈\n",
        "# 패키지.모듈.변수\n",
        "# 패키지.모듈.함수()\n",
        "# 패키지. 모듈. 클래스()\n"
      ],
      "metadata": {
        "id": "xGHZRBWk1Cui"
      },
      "execution_count": null,
      "outputs": []
    },
    {
      "cell_type": "code",
      "source": [
        "import numpy as np # numpy는 라이브러리\n",
        "#numerical python\n",
        "\n",
        "a= np.array([1,2,3])\n",
        "print(a)"
      ],
      "metadata": {
        "colab": {
          "base_uri": "https://localhost:8080/"
        },
        "id": "QLsTYzWxMueZ",
        "outputId": "edde0407-33d5-4eb7-96ad-ce048e1b6764"
      },
      "execution_count": null,
      "outputs": [
        {
          "output_type": "stream",
          "name": "stdout",
          "text": [
            "[1 2 3]\n"
          ]
        }
      ]
    },
    {
      "cell_type": "code",
      "source": [
        "import numpy.random # random 모듈도 가지고 온다\n",
        "print(numpy.random.randn(3,3)) # Normal distribution, (3,3)은 3열 3행을 의미한다\n",
        "\n",
        "# 샘플의 형을 의미\n"
      ],
      "metadata": {
        "colab": {
          "base_uri": "https://localhost:8080/"
        },
        "id": "aK8sQKCmS5G8",
        "outputId": "8957ce2f-f269-4990-8465-b07ba92ea84e"
      },
      "execution_count": null,
      "outputs": [
        {
          "output_type": "stream",
          "name": "stdout",
          "text": [
            "[[-1.04114078  0.23595827 -0.19869618]\n",
            " [ 1.36616334  1.47703448  0.37270594]\n",
            " [ 2.4004536  -0.04897934 -0.48272539]]\n"
          ]
        }
      ]
    },
    {
      "cell_type": "code",
      "source": [
        "import numpy.random as nr\n",
        "print(nr.randn(3,3))"
      ],
      "metadata": {
        "colab": {
          "base_uri": "https://localhost:8080/"
        },
        "id": "jCkPe4Rp5JBG",
        "outputId": "455a378b-c41b-4a5a-d04b-c495415fb958"
      },
      "execution_count": null,
      "outputs": [
        {
          "output_type": "stream",
          "name": "stdout",
          "text": [
            "[[ 1.00940834 -0.5243892   0.92750076]\n",
            " [ 1.4629787   0.42263357 -1.79017867]\n",
            " [-0.87192793  0.25414885 -1.17242147]]\n"
          ]
        }
      ]
    },
    {
      "cell_type": "code",
      "source": [
        "from numpy.random import randn\n",
        "print(randn(3,3))"
      ],
      "metadata": {
        "colab": {
          "base_uri": "https://localhost:8080/"
        },
        "id": "KNNbHmO85Wlf",
        "outputId": "3190d61e-6847-4635-80f8-1d9e7b076530"
      },
      "execution_count": null,
      "outputs": [
        {
          "output_type": "stream",
          "name": "stdout",
          "text": [
            "[[-1.32401177 -0.67299002  0.44206557]\n",
            " [ 1.45640382  1.03097568  1.25777086]\n",
            " [ 0.6041652   1.59584462  1.29655405]]\n"
          ]
        }
      ]
    },
    {
      "cell_type": "code",
      "source": [
        "from numpy.random import *\n",
        "print(randn(3,3))\n",
        "print(rand(3,3)) # uniform distribution(0~1) 사이의 값"
      ],
      "metadata": {
        "colab": {
          "base_uri": "https://localhost:8080/"
        },
        "id": "0yipSDmR5gRS",
        "outputId": "00882776-4350-43d5-c6d7-09daefb8ff9c"
      },
      "execution_count": null,
      "outputs": [
        {
          "output_type": "stream",
          "name": "stdout",
          "text": [
            "[[-0.27521    -0.93453568 -1.07224392]\n",
            " [ 0.29976683 -1.1867898  -0.6102095 ]\n",
            " [ 0.38349846  0.04185497 -0.36540054]]\n",
            "[[0.2418446  0.23001296 0.75881387]\n",
            " [0.44044606 0.08365576 0.29585562]\n",
            " [0.8465672  0.29232661 0.06360046]]\n"
          ]
        }
      ]
    },
    {
      "cell_type": "code",
      "source": [
        "from numpy.random import  randn as rn, rand as r\n",
        "print(rn(3,3))\n",
        "print(r(3,3))\n"
      ],
      "metadata": {
        "colab": {
          "base_uri": "https://localhost:8080/"
        },
        "id": "pDVe3IPi5sau",
        "outputId": "dcfaf522-d33a-48b0-8531-ec0369e9fd1b"
      },
      "execution_count": null,
      "outputs": [
        {
          "output_type": "stream",
          "name": "stdout",
          "text": [
            "[[-0.36776815  0.07165988  1.95391856]\n",
            " [ 1.26385072 -0.82824852  0.2995992 ]\n",
            " [-0.06027391 -0.75497446  1.12896467]]\n",
            "[[0.59035955 0.30552729 0.77868157]\n",
            " [0.202341   0.30915759 0.32550981]\n",
            " [0.5271919  0.72396258 0.16297446]]\n"
          ]
        }
      ]
    },
    {
      "cell_type": "markdown",
      "source": [
        "# numpy 본격적으로"
      ],
      "metadata": {
        "id": "UUx4d-Ff5_91"
      }
    },
    {
      "cell_type": "code",
      "source": [
        "import numpy as np\n",
        "a = np.array([1,2,3,4]) # list가 입력으로 들어가는 함수\n",
        "print(a) # 리스트를 리스트로\n",
        "print(type(a))\n",
        "print(a.dtype) # dara type\n",
        "print(a.shape) # 숫자 4개니까 4차원\n",
        "print(a[0])\n",
        "b = np.array([1,2,3.1,4])\n",
        "print(b.dtype) # float\n",
        "print(b.shape)\n",
        "print(b[0]) #  int 여도 하나가 float이면 float로 바뀌어서 출력 1--> 1.0으로\n"
      ],
      "metadata": {
        "colab": {
          "base_uri": "https://localhost:8080/"
        },
        "id": "uJISrrL95sdH",
        "outputId": "e07da179-25de-4fa2-8d10-acf093320637"
      },
      "execution_count": null,
      "outputs": [
        {
          "output_type": "stream",
          "name": "stdout",
          "text": [
            "[1 2 3 4]\n",
            "<class 'numpy.ndarray'>\n",
            "int64\n",
            "(4,)\n",
            "1\n",
            "float64\n",
            "(4,)\n",
            "1.0\n"
          ]
        }
      ]
    },
    {
      "cell_type": "code",
      "source": [
        "a=np.array(1234567478937498274329482093840948390842840937)\n",
        "print(a)\n",
        "print(a.dtype) # 64이상이 되면 메몰 초과로 object 출력"
      ],
      "metadata": {
        "colab": {
          "base_uri": "https://localhost:8080/"
        },
        "id": "VBzae3Px6wC8",
        "outputId": "d1283255-e2aa-43ed-c23d-1eefd11cd4ca"
      },
      "execution_count": null,
      "outputs": [
        {
          "output_type": "stream",
          "name": "stdout",
          "text": [
            "1234567478937498274329482093840948390842840937\n",
            "object\n"
          ]
        }
      ]
    },
    {
      "cell_type": "code",
      "source": [
        "import numpy as np\n",
        "A = np.array([[1,2], [3,4]]) # 리스트 속의 리스트\n",
        "print(A)\n",
        "print(A.shape) # 2행 2열 (2,2)\n",
        "print(A.ndim) # 2 , #차원의 수\n",
        "print(A.size) # A.shape 의 모든 수를 곱한 값 : 2*2 = 4\n"
      ],
      "metadata": {
        "colab": {
          "base_uri": "https://localhost:8080/"
        },
        "id": "zT0DqMhW6V9L",
        "outputId": "c225aa81-94a6-49ff-9960-d72aa4a6371c"
      },
      "execution_count": null,
      "outputs": [
        {
          "output_type": "stream",
          "name": "stdout",
          "text": [
            "[[1 2]\n",
            " [3 4]]\n",
            "(2, 2)\n",
            "2\n",
            "4\n"
          ]
        }
      ]
    },
    {
      "cell_type": "code",
      "source": [
        "print(np.zeros(5))\n",
        "print(np.zeros_like(A)) # A의 크기에 맞추어서 0을 채워준다\n",
        "print(np.ones_like(A))\n",
        "\n",
        "print(np.zeros((3,3))) # 반드시 하나의 값만! 리스트나 튜플로 묶어주기\n",
        "\n",
        "import torch\n",
        "print(torch.zeros((3,3)))\n",
        "print(np.arange(3,10,2)) #3부터 10까지 2 간격으로 출력한다 # range--> array\n",
        "\n",
        "print(type(np.arange(3,10,2) )) # 소수점 가능\n",
        "\n",
        "print(np.arange(0,1,0.1))  # 소수점 가능\n",
        "print(np.linspace(0, 1, 10, endpoint = False)) # 0에서부터 1포함 10개로, 단 끝지점은 포함하지 않는다\n",
        "# endpoint 를 초함하는 것이 default다"
      ],
      "metadata": {
        "colab": {
          "base_uri": "https://localhost:8080/"
        },
        "id": "RcD3LSzo_qwU",
        "outputId": "0d706999-f9ab-4fc7-841d-01e4b1cc8d22"
      },
      "execution_count": null,
      "outputs": [
        {
          "output_type": "stream",
          "name": "stdout",
          "text": [
            "[0. 0. 0. 0. 0.]\n",
            "[[0 0]\n",
            " [0 0]]\n",
            "[[1 1]\n",
            " [1 1]]\n",
            "[[0. 0. 0.]\n",
            " [0. 0. 0.]\n",
            " [0. 0. 0.]]\n",
            "tensor([[0., 0., 0.],\n",
            "        [0., 0., 0.],\n",
            "        [0., 0., 0.]])\n",
            "[3 5 7 9]\n",
            "<class 'numpy.ndarray'>\n",
            "[0.  0.1 0.2 0.3 0.4 0.5 0.6 0.7 0.8 0.9]\n",
            "[0.  0.1 0.2 0.3 0.4 0.5 0.6 0.7 0.8 0.9]\n"
          ]
        }
      ]
    },
    {
      "cell_type": "code",
      "source": [
        "# boolan 인덱싱\n",
        "import numpy as np\n",
        "a=[1,2,3,4,5,3,3]\n",
        "print(a==3)\n",
        "\n",
        "b = np.array([1,2,3,4,3,2,3,2,3])\n",
        "print(b==3)\n",
        "print(b[b==3]) # b==3임을 만족하는 행렬에서 true 만 뽑아서 다시 정렬\n",
        "b[b==3] = 100 # 3인 true 부분을 100으로 치환해서 리스트에 집어넣을 수도 있음\n",
        "print(b)\n",
        "\n",
        "\n",
        "\n",
        "A = np.array([[1,2], [3,4], [5,6], [7,8]])\n",
        "\n",
        "B = np.array([True, False,False, True])\n",
        "\n",
        "A[B,:] #0 행행, 3행행 슬라이싱 # True 의 위치에 따라 슬라이싱\n",
        "\n",
        "b= np.array([1,2,3,4])\n",
        "print(b)\n",
        "print(b[[True, True, False, False]]) # 0행, 1행 슬라이싱\n"
      ],
      "metadata": {
        "id": "ePdWpOuBAg9w",
        "colab": {
          "base_uri": "https://localhost:8080/"
        },
        "outputId": "a63072a0-904b-43f1-e49e-52fa7ec1aa91"
      },
      "execution_count": null,
      "outputs": [
        {
          "output_type": "stream",
          "name": "stdout",
          "text": [
            "False\n",
            "[False False  True False  True False  True False  True]\n",
            "[3 3 3 3]\n",
            "[  1   2 100   4 100   2 100   2 100]\n",
            "[1 2 3 4]\n",
            "[1 2]\n"
          ]
        }
      ]
    },
    {
      "cell_type": "code",
      "source": [
        "# 3차원 행렬 인덱싱\n",
        "\n",
        "A= np.array([[[0,1,2,3], [4,5,6,7], [8,9,10,11]],\n",
        "             [[12,13,14,15], [16,17,18,19], [20,21,22,23]]])\n",
        "\n",
        "print(A)\n",
        "\n",
        "print(A.shape) # (2,3,4)\n",
        "# 3차원 안 2개, 각 리스트 안에 3개 그리고 제일 작은 리스트 안에 4개\n",
        "# 차원 내림차순으로 개수 세면서 튜플로 완성\n",
        "\n",
        "print(A[0,1,2]) # 0번째 1번쨰 2번째\n",
        "\n"
      ],
      "metadata": {
        "colab": {
          "base_uri": "https://localhost:8080/"
        },
        "id": "3lGH3kswBo3r",
        "outputId": "ce1bce00-8eba-4df1-ee48-a8542768f7bd"
      },
      "execution_count": null,
      "outputs": [
        {
          "output_type": "stream",
          "name": "stdout",
          "text": [
            "[[[ 0  1  2  3]\n",
            "  [ 4  5  6  7]\n",
            "  [ 8  9 10 11]]\n",
            "\n",
            " [[12 13 14 15]\n",
            "  [16 17 18 19]\n",
            "  [20 21 22 23]]]\n",
            "(2, 3, 4)\n",
            "6\n"
          ]
        }
      ]
    },
    {
      "cell_type": "markdown",
      "source": [
        "# numpy 의 여러 함수들"
      ],
      "metadata": {
        "id": "S5F60v3ZCf_f"
      }
    },
    {
      "cell_type": "code",
      "source": [
        "A= np.random.randn(3,3) # 정규분포\n",
        "B = np.random.rand(3,3) # 0과 1 사이의 균등분포\n",
        "print(A)\n",
        "print(B)\n",
        "print(A[:,0]) # 모든행에서 첫번째열을 선택하라\n",
        "print(A[A[:,0]<0, :]) # 0번째 의 열이 음수인것들을 가지고 온다\n",
        "\n",
        "\n",
        "# 1. A[:,0]<0, : --> 모든 행의 첫번째 열이 0보다 작은지를 판별\n",
        "# 2. []는 boolean 을 의미, 참,거짓으로 판별 --> ture 인 경우만 배출"
      ],
      "metadata": {
        "colab": {
          "base_uri": "https://localhost:8080/"
        },
        "id": "qgDdsqvGCSgt",
        "outputId": "cd835466-fcc5-4453-ba17-6409fcf17a18"
      },
      "execution_count": null,
      "outputs": [
        {
          "output_type": "stream",
          "name": "stdout",
          "text": [
            "[[ 1.2995202   0.76579096 -0.86512944]\n",
            " [-0.64755505 -0.98459926  1.79854237]\n",
            " [ 0.83285696 -0.36329001  0.40869042]]\n",
            "[[0.72719356 0.93950782 0.22608037]\n",
            " [0.39409431 0.74945208 0.89007475]\n",
            " [0.20154865 0.19027563 0.14168018]]\n",
            "[ 1.2995202  -0.64755505  0.83285696]\n",
            "[[-0.64755505 -0.98459926  1.79854237]]\n"
          ]
        }
      ]
    },
    {
      "cell_type": "code",
      "source": [
        "A = np.random.randn(3,3)\n",
        "print(A)\n",
        "print(np.abs(A))\n",
        "print(np.sqrt(np.abs(A)))\n",
        "\n",
        "print(np.exp(A))\n",
        "print(np.log(np.abs(A)))\n",
        "print(np.log(np.exp(1))) # np.exp(1) =  e의 1 승의 log 니까 1\n",
        "print(np.log(10))\n",
        "\n",
        "print(np.round(A, 2)) # 특정 자리 수까지 반올림\n"
      ],
      "metadata": {
        "colab": {
          "base_uri": "https://localhost:8080/"
        },
        "id": "McolxUozD76M",
        "outputId": "55b276f3-3cd8-48c0-f32d-9ba2c2b3828f"
      },
      "execution_count": null,
      "outputs": [
        {
          "output_type": "stream",
          "name": "stdout",
          "text": [
            "[[ 0.52068183 -0.51763082 -0.26824867]\n",
            " [-1.10476724 -0.14239701  0.26304086]\n",
            " [ 0.2681011   1.56733355 -0.10837187]]\n",
            "[[0.52068183 0.51763082 0.26824867]\n",
            " [1.10476724 0.14239701 0.26304086]\n",
            " [0.2681011  1.56733355 0.10837187]]\n",
            "[[0.72158286 0.71946565 0.51792728]\n",
            " [1.05107908 0.37735528 0.51287509]\n",
            " [0.5177848  1.25193193 0.32919883]]\n",
            "[[1.6831749  0.59593074 0.76471759]\n",
            " [0.33128798 0.86727687 1.30087987]\n",
            " [1.30747931 4.7938486  0.89729386]]\n",
            "[[-0.65261611 -0.65849299 -1.31584085]\n",
            " [ 0.09963467 -1.9491363  -1.3354459 ]\n",
            " [-1.31639114  0.4493758  -2.22218671]]\n",
            "1.0\n",
            "2.302585092994046\n",
            "[[ 0.52 -0.52 -0.27]\n",
            " [-1.1  -0.14  0.26]\n",
            " [ 0.27  1.57 -0.11]]\n"
          ]
        }
      ]
    },
    {
      "cell_type": "code",
      "source": [
        "print(np.sin(np.pi/6))\n",
        "# 최대 기울기 : 1\n",
        "\n",
        "print(np.tanh(-10))\n",
        "\n",
        "np.nan\n",
        "\n",
        "np.isnan([1,2,3,4, np.nan]) # np.nan 인 경우 True를 반환\n",
        "\n",
        "print(np.isinf([1,2,3,4,np.inf]))\n",
        "\n",
        "# 특정 부분에서 분포를 알기 위한 것들을 알 수 있음\n"
      ],
      "metadata": {
        "colab": {
          "base_uri": "https://localhost:8080/"
        },
        "id": "IgsXYCuQHGIQ",
        "outputId": "23a6c3d2-3acc-4f41-83fe-eb754972b563"
      },
      "execution_count": null,
      "outputs": [
        {
          "output_type": "stream",
          "name": "stdout",
          "text": [
            "0.49999999999999994\n",
            "-0.9999999958776927\n",
            "[False False False False  True]\n"
          ]
        }
      ]
    },
    {
      "cell_type": "code",
      "source": [
        "A=np.random.randn(3,4)\n",
        "print(A)\n",
        "\n",
        "print(np.max(A))\n",
        "\n",
        "print(np.max(A, axis=0)) # 각 열의 최댓값을 뽑아서 나열(세로로)\n",
        "\n",
        "print(np.max(A, axis=1)) # 각 행에 대해서 최댓값을 뽑아서 나열(가로로)\n",
        "\n",
        "print(np.max(A, axis=0, keepdims  = True )), # 차원을 그대로 유지해주면서 출력\n",
        "\n",
        "print(np.argmax(A)) # 가장 큰 숫자가 있는 인덱스를 출력 arg + max --> 가로로 읽기\n",
        "\n",
        "\n",
        "\n"
      ],
      "metadata": {
        "colab": {
          "base_uri": "https://localhost:8080/"
        },
        "id": "VT9mwekqH3Ub",
        "outputId": "2bcf2c08-2d10-49fd-a583-8f99b484df4b"
      },
      "execution_count": null,
      "outputs": [
        {
          "output_type": "stream",
          "name": "stdout",
          "text": [
            "[[-0.20140013 -0.36160283  0.8576644   1.38378123]\n",
            " [ 0.60521294  1.9680552  -0.5314809   0.48464126]\n",
            " [-0.45759416  0.09357689 -0.42007454  1.38676   ]]\n",
            "1.9680552029528275\n",
            "[0.60521294 1.9680552  0.8576644  1.38676   ]\n",
            "[1.38378123 1.9680552  1.38676   ]\n",
            "[[0.60521294 1.9680552  0.8576644  1.38676   ]]\n",
            "5\n"
          ]
        }
      ]
    },
    {
      "cell_type": "code",
      "source": [
        "a=np.random.randn(6,1)\n",
        "\n",
        "print(a)\n",
        "\n",
        "a_sorted = np.sort(a)\n",
        "print(a_sorted)\n",
        "\n",
        "print(np.flipud(a_sorted)) # np.flipud 내림차순 가능\n",
        "\n",
        "\n"
      ],
      "metadata": {
        "colab": {
          "base_uri": "https://localhost:8080/"
        },
        "id": "QznAidXsJdI0",
        "outputId": "67aee7af-8b56-4266-b78c-64f91504be8f"
      },
      "execution_count": null,
      "outputs": [
        {
          "output_type": "stream",
          "name": "stdout",
          "text": [
            "[[-0.39282336]\n",
            " [ 1.24363241]\n",
            " [-0.67692   ]\n",
            " [ 0.53978567]\n",
            " [ 0.07356449]\n",
            " [-0.09888866]]\n",
            "[[-0.39282336]\n",
            " [ 1.24363241]\n",
            " [-0.67692   ]\n",
            " [ 0.53978567]\n",
            " [ 0.07356449]\n",
            " [-0.09888866]]\n",
            "[[-0.09888866]\n",
            " [ 0.07356449]\n",
            " [ 0.53978567]\n",
            " [-0.67692   ]\n",
            " [ 1.24363241]\n",
            " [-0.39282336]]\n"
          ]
        }
      ]
    },
    {
      "cell_type": "code",
      "source": [
        "A = np.random.randn(3,4)\n",
        "print(A)\n",
        "\n",
        "print(np.sum(A))\n",
        "print(np.sum(A, axis=1)) # 가로로 모든 값을 더한다\n",
        "print(np.sum(A, axis=1, keepdims = True)) # 3행 1열을 유지\n",
        "\n",
        "print(np.mean(A, axis=1, keepdims = True)) # mean : 평균을 구하자\n",
        "\n",
        "print(np.std(A)) # standard deviatoin 표준편차"
      ],
      "metadata": {
        "colab": {
          "base_uri": "https://localhost:8080/"
        },
        "id": "tdzlxWE7J9y2",
        "outputId": "f7182ae6-1d98-40ff-d8da-5f94149b624d"
      },
      "execution_count": null,
      "outputs": [
        {
          "output_type": "stream",
          "name": "stdout",
          "text": [
            "[[ 0.88195871  0.64390163  0.0730533   1.46887852]\n",
            " [-0.45640438 -0.10987986  0.25501854 -0.20718727]\n",
            " [-0.5955544  -0.25059206  0.8328391   0.44812525]]\n",
            "2.9841570578196572\n",
            "[ 3.06779216 -0.51845298  0.43481789]\n",
            "[[ 3.06779216]\n",
            " [-0.51845298]\n",
            " [ 0.43481789]]\n",
            "[[ 0.76694804]\n",
            " [-0.12961325]\n",
            " [ 0.10870447]]\n",
            "0.5953682419694021\n"
          ]
        }
      ]
    },
    {
      "cell_type": "code",
      "source": [
        "A=np.random.randint(1,5, size=(12, 1))\n",
        "#randint = random + int , 사이즈가 12인 1이상 5미만 정수를 랜덤으로 주세요\n",
        "# 사이즈에 따라 차원 조절 가능 , 12행 1열\n",
        "print(A)\n",
        "print(A.shape)\n",
        "\n",
        "B= A.reshape(2,2,3) # 3차원(2개), 2차원(2개), 1차원(1개)\n",
        "# 2행 3열자리가 2개 있다. --> reshape (차원 변경)\n",
        "print(B)\n",
        "print(B.ndim) #3차원 행렬이다"
      ],
      "metadata": {
        "colab": {
          "base_uri": "https://localhost:8080/"
        },
        "id": "1Vu8VmbiK0Fw",
        "outputId": "e87d0d69-5edd-465c-a887-4ac9b17a8544"
      },
      "execution_count": null,
      "outputs": [
        {
          "output_type": "stream",
          "name": "stdout",
          "text": [
            "[[3]\n",
            " [3]\n",
            " [1]\n",
            " [1]\n",
            " [2]\n",
            " [1]\n",
            " [4]\n",
            " [1]\n",
            " [2]\n",
            " [3]\n",
            " [4]\n",
            " [4]]\n",
            "(12, 1)\n",
            "[[[3 3 1]\n",
            "  [1 2 1]]\n",
            "\n",
            " [[4 1 2]\n",
            "  [3 4 4]]]\n",
            "3\n"
          ]
        }
      ]
    },
    {
      "cell_type": "code",
      "source": [
        "# 내적을 하라(2+4+3= 9)\n",
        "a=np.array([1,2,3])\n",
        "b=np. array([2,2,1])\n",
        "\n",
        "\n",
        "print(np.sum(a*b))\n",
        "\n",
        "a=a.reshape(3,1) # 열벡터로 변환\n",
        "b=b.reshape(3,1)\n",
        "\n",
        "print(a.transpose()@b) # @: 찐 행렬 곱셈\n",
        "print(a.T@b) # transpse --> T\n",
        "\n",
        "A= np.random.randn(4,3,2)\n",
        "print(A.transpose(0,1,2).shape) # 인덱스 에 맞추어서 재정렬 가능"
      ],
      "metadata": {
        "colab": {
          "base_uri": "https://localhost:8080/"
        },
        "id": "My7uoNPRMCXY",
        "outputId": "d3be4962-39c2-41dc-effc-76fb2962b923"
      },
      "execution_count": null,
      "outputs": [
        {
          "output_type": "stream",
          "name": "stdout",
          "text": [
            "9\n",
            "[[9]]\n",
            "[[9]]\n",
            "(4, 3, 2)\n"
          ]
        }
      ]
    },
    {
      "cell_type": "code",
      "source": [
        "A=np.arange(20) # arange: 시작, 끝, 스텝 순으로 연속된 배열의 숫자를 생성한다\n",
        "print(A)\n",
        "print(A.reshape(4,5)) # 4행 5열의 배열을 완성시킨다\n",
        "\n",
        "\n",
        "print(A.reshape(4,-1)) # 4개의 행이 되도록 열을 알아서 알려줘\n",
        "print(A.reshape(2,5,-1)) # 알아서 만들어줌\n",
        "\n",
        "#-1을 사용하면 알아서 차원으로 만들어준다, 1자리만 알아서\n",
        "\n",
        "print(A.reshape(-1, 1).shape)\n",
        "\n",
        "\n",
        "\n",
        "\n"
      ],
      "metadata": {
        "colab": {
          "base_uri": "https://localhost:8080/"
        },
        "id": "YQCYKYNCNmUO",
        "outputId": "fc00cb26-3394-4118-e2c2-e3dca09e9433"
      },
      "execution_count": null,
      "outputs": [
        {
          "output_type": "stream",
          "name": "stdout",
          "text": [
            "[ 0  1  2  3  4  5  6  7  8  9 10 11 12 13 14 15 16 17 18 19]\n",
            "[[ 0  1  2  3  4]\n",
            " [ 5  6  7  8  9]\n",
            " [10 11 12 13 14]\n",
            " [15 16 17 18 19]]\n",
            "[[ 0  1  2  3  4]\n",
            " [ 5  6  7  8  9]\n",
            " [10 11 12 13 14]\n",
            " [15 16 17 18 19]]\n",
            "[[[ 0  1]\n",
            "  [ 2  3]\n",
            "  [ 4  5]\n",
            "  [ 6  7]\n",
            "  [ 8  9]]\n",
            "\n",
            " [[10 11]\n",
            "  [12 13]\n",
            "  [14 15]\n",
            "  [16 17]\n",
            "  [18 19]]]\n",
            "(20, 1)\n"
          ]
        }
      ]
    },
    {
      "cell_type": "code",
      "source": [
        "x=np.random.randn(2,3,4,5,6)\n",
        "\n",
        "print(x[1,2,:,:,:].shape)\n",
        "#5차원에서 1번쨰거, 4차원에서 2번쨰 거 나머지 all 이니까 차원은 (4,5,6)\n",
        "\n",
        "print(x[1,2,...].shape) # ...은 이 뒤로는 다 같다라는 뜻이다\n",
        "\n",
        "print(x[..., 3].shape)\n",
        "\n"
      ],
      "metadata": {
        "colab": {
          "base_uri": "https://localhost:8080/",
          "height": 234
        },
        "id": "a0bBtwHnPSWA",
        "outputId": "65a6c55c-3e41-4935-80d4-b63253b3dfe6"
      },
      "execution_count": null,
      "outputs": [
        {
          "output_type": "stream",
          "name": "stdout",
          "text": [
            "(4, 5, 6)\n",
            "(4, 5, 6)\n",
            "(2, 3, 4, 5)\n"
          ]
        },
        {
          "output_type": "error",
          "ename": "NameError",
          "evalue": "name 'shape' is not defined",
          "traceback": [
            "\u001b[0;31m---------------------------------------------------------------------------\u001b[0m",
            "\u001b[0;31mNameError\u001b[0m                                 Traceback (most recent call last)",
            "\u001b[0;32m<ipython-input-121-12c97e9791e0>\u001b[0m in \u001b[0;36m<cell line: 10>\u001b[0;34m()\u001b[0m\n\u001b[1;32m      8\u001b[0m \u001b[0mprint\u001b[0m\u001b[0;34m(\u001b[0m\u001b[0mx\u001b[0m\u001b[0;34m[\u001b[0m\u001b[0;34m...\u001b[0m\u001b[0;34m,\u001b[0m \u001b[0;36m3\u001b[0m\u001b[0;34m]\u001b[0m\u001b[0;34m.\u001b[0m\u001b[0mshape\u001b[0m\u001b[0;34m)\u001b[0m\u001b[0;34m\u001b[0m\u001b[0;34m\u001b[0m\u001b[0m\n\u001b[1;32m      9\u001b[0m \u001b[0;34m\u001b[0m\u001b[0m\n\u001b[0;32m---> 10\u001b[0;31m \u001b[0mprint\u001b[0m\u001b[0;34m(\u001b[0m\u001b[0mx\u001b[0m\u001b[0;34m[\u001b[0m\u001b[0;36m1\u001b[0m\u001b[0;34m,\u001b[0m \u001b[0;34m:\u001b[0m\u001b[0;34m,\u001b[0m \u001b[0;36m3\u001b[0m\u001b[0;34m,\u001b[0m \u001b[0;34m:\u001b[0m\u001b[0;34m]\u001b[0m\u001b[0;34m,\u001b[0m\u001b[0mshape\u001b[0m\u001b[0;34m)\u001b[0m\u001b[0;34m\u001b[0m\u001b[0;34m\u001b[0m\u001b[0m\n\u001b[0m",
            "\u001b[0;31mNameError\u001b[0m: name 'shape' is not defined"
          ]
        }
      ]
    },
    {
      "cell_type": "code",
      "source": [
        "a=np.ones((2,2)) #특정부분을 모두 1으로 바꾼다\n",
        "b= np.zeros((2,2)) # 특정부분을 모두 0로 바꾼다\n",
        "c= np.hstack([a,b]) # horizontal(가로) : 가로 방향으로 세워서 계산\n",
        "d= np.vstack([a,b]) # vertical(세로) : 세로 방향으로 세워서 계산\n",
        "e = np.block([a,b]) # 수평으로 결합\n",
        "f= np.block([[a], [b]]) # 수직적으로 결합\n",
        "print(a)\n",
        "print(b)\n",
        "print(c)\n",
        "print(d)\n",
        "print(e)\n",
        "print(f)\n"
      ],
      "metadata": {
        "colab": {
          "base_uri": "https://localhost:8080/"
        },
        "id": "5PCBo0qwPDK-",
        "outputId": "ba7e057e-79c1-40c7-cd0b-ef6b505ee8cd"
      },
      "execution_count": null,
      "outputs": [
        {
          "output_type": "stream",
          "name": "stdout",
          "text": [
            "[[1. 1.]\n",
            " [1. 1.]]\n",
            "[[0. 0.]\n",
            " [0. 0.]]\n",
            "[[1. 1. 0. 0.]\n",
            " [1. 1. 0. 0.]]\n",
            "[[1. 1.]\n",
            " [1. 1.]\n",
            " [0. 0.]\n",
            " [0. 0.]]\n",
            "[[1. 1. 0. 0.]\n",
            " [1. 1. 0. 0.]]\n",
            "[[1. 1.]\n",
            " [1. 1.]\n",
            " [0. 0.]\n",
            " [0. 0.]]\n"
          ]
        }
      ]
    },
    {
      "cell_type": "code",
      "source": [
        "A = np.random.randn(1,1,1,3,1,1,4,1)\n",
        "print(A)\n",
        "# 3행 4열로 바꾸고 싶은 경우\n",
        "\n",
        "print(A.shape)\n",
        "print(A.squeeze().shape) # squeeze() 함수를 호출하여 1을 모두 제거\n",
        "\n",
        "print(A.squeeze(axis = (0,2,4,5)).shape) # 원하는 부분의 1을 제거가능"
      ],
      "metadata": {
        "colab": {
          "base_uri": "https://localhost:8080/"
        },
        "id": "9l-gwoZ0SPOI",
        "outputId": "cbca498a-a1f9-44a6-db79-2ab059ce24e1"
      },
      "execution_count": null,
      "outputs": [
        {
          "output_type": "stream",
          "name": "stdout",
          "text": [
            "[[[[[[[[ 0.62566931]\n",
            "       [ 1.63586257]\n",
            "       [ 0.20026717]\n",
            "       [ 0.79655695]]]]\n",
            "\n",
            "\n",
            "\n",
            "    [[[[ 1.25621536]\n",
            "       [ 1.146388  ]\n",
            "       [-0.4108596 ]\n",
            "       [-0.42021407]]]]\n",
            "\n",
            "\n",
            "\n",
            "    [[[[ 0.17074452]\n",
            "       [ 0.66118824]\n",
            "       [-0.46094039]\n",
            "       [ 1.56230217]]]]]]]]\n",
            "(1, 1, 1, 3, 1, 1, 4, 1)\n",
            "(3, 4)\n",
            "(1, 3, 4, 1)\n"
          ]
        }
      ]
    },
    {
      "cell_type": "code",
      "source": [
        "A=np.random.randn(3,4)\n",
        "A1= A[np.newaxis, ...] # 첫번째에 새로운 차원을 추가하고 나머지는 유지(...)\n",
        "# np.newaxis is None : True\n",
        "\n",
        "A2= A[None, ...]\n",
        "print(A2.shape)\n",
        "print(A1.shape) # 앞에 1이 추가됨\n",
        "\n",
        "A3 = A[..., None]\n",
        "print(A3.shape)\n",
        "\n",
        "\n",
        "A4 = A[:, None, :]\n",
        "print(A4.shape) # 중간삽입도 가능\n",
        "\n",
        "\n",
        "A5 = np.expand_dims(A, axis=1) # 인덱스 1자리에 차원을 추가: 지점을 지정할 수 있음\n",
        "print(A5.shape)"
      ],
      "metadata": {
        "colab": {
          "base_uri": "https://localhost:8080/"
        },
        "id": "a9Q42suATWaa",
        "outputId": "2fc3a886-f84e-4e6f-ff7d-0c315f4eaba4"
      },
      "execution_count": null,
      "outputs": [
        {
          "output_type": "stream",
          "name": "stdout",
          "text": [
            "(1, 3, 4)\n",
            "(1, 3, 4)\n",
            "(3, 4, 1)\n",
            "(3, 1, 4)\n",
            "(3, 1, 4)\n"
          ]
        }
      ]
    },
    {
      "cell_type": "code",
      "source": [
        "np.newaxis is None"
      ],
      "metadata": {
        "colab": {
          "base_uri": "https://localhost:8080/"
        },
        "id": "jN4p_WBYUMc7",
        "outputId": "a772b377-87a0-46d0-ddf1-0a4c613f29fc"
      },
      "execution_count": null,
      "outputs": [
        {
          "output_type": "execute_result",
          "data": {
            "text/plain": [
              "True"
            ]
          },
          "metadata": {},
          "execution_count": 161
        }
      ]
    },
    {
      "cell_type": "code",
      "source": [],
      "metadata": {
        "id": "m0Oo44amUPpT"
      },
      "execution_count": null,
      "outputs": []
    }
  ]
}