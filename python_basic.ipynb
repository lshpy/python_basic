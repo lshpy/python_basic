{
  "nbformat": 4,
  "nbformat_minor": 0,
  "metadata": {
    "colab": {
      "provenance": []
    },
    "kernelspec": {
      "name": "python3",
      "display_name": "Python 3"
    },
    "language_info": {
      "name": "python"
    }
  },
  "cells": [
    {
      "cell_type": "markdown",
      "source": [
        "# 코랩이란\n",
        "\n",
        "구글 컴퓨터 사용(CPU, GPU)\n"
      ],
      "metadata": {
        "id": "fmHc_FkTZXM8"
      }
    },
    {
      "cell_type": "code",
      "source": [],
      "metadata": {
        "id": "rILwcoyndj0J"
      },
      "execution_count": null,
      "outputs": []
    },
    {
      "cell_type": "markdown",
      "source": [
        "# 단축키\n"
      ],
      "metadata": {
        "id": "iK4osy9Cm8xh"
      }
    },
    {
      "cell_type": "code",
      "source": [
        "print(\"I'm Seunghyuh Lee\")\n",
        "# ctrl+Enter--> 현재 셀 재생\n",
        "# ctrl+/ --> 토글링 (앞, 뒤)\n",
        "#shift+Enter --> 실행하고 다음 셀로 넘어가기\n",
        "#alt(option)+ Enter--> 실행하고 셀을 새로 만듦\n",
        "#esc--> 방향ㅋ 위 아래로\n",
        "#ctrl+m, d-->  셀 삭제\n",
        "#ctrl+m , z--> 셀 수준 실행 취소\n",
        "#ctrl+shift+y--> 셀 수준 다시 실행\n",
        "# ctrl+ c, ctrl+ z 과 같은 것은 모두 정상작동"
      ],
      "metadata": {
        "colab": {
          "base_uri": "https://localhost:8080/"
        },
        "collapsed": true,
        "id": "Sl2Fvx0tZ1k5",
        "outputId": "62c9ed27-98c1-47da-d422-a54adbd48a53"
      },
      "execution_count": null,
      "outputs": [
        {
          "output_type": "stream",
          "name": "stdout",
          "text": [
            "I'm Seunghyuh Lee\n"
          ]
        }
      ]
    },
    {
      "cell_type": "code",
      "source": [],
      "metadata": {
        "id": "ckRgAlP1m_td"
      },
      "execution_count": null,
      "outputs": []
    },
    {
      "cell_type": "markdown",
      "source": [
        "# 리스트 심화"
      ],
      "metadata": {
        "id": "XMHhMPhbnFcf"
      }
    },
    {
      "cell_type": "code",
      "source": [
        "a=[1,2,3]\n",
        "a.append(4)\n",
        "print(a, \"len(a) =\", len(a) )\n",
        "\n",
        "\n"
      ],
      "metadata": {
        "colab": {
          "base_uri": "https://localhost:8080/"
        },
        "id": "0m3cHEfKnw5N",
        "outputId": "82996d6d-f528-4172-d4f8-abcfb64b3a6e"
      },
      "execution_count": null,
      "outputs": [
        {
          "output_type": "stream",
          "name": "stdout",
          "text": [
            "[1, 2, 3, 4] len(a) = 4\n"
          ]
        }
      ]
    },
    {
      "cell_type": "code",
      "source": [
        "a=[1,2,3]\n",
        "a.append([4,5]) # 리스트 안 리스트를 생성, 길이가 5가 되지 않음\n",
        "print(a, \"len(a) =\", len(a) )"
      ],
      "metadata": {
        "colab": {
          "base_uri": "https://localhost:8080/"
        },
        "id": "rlYkvprhoHey",
        "outputId": "f215e95a-6d9d-4d05-ecd0-caa23b573eb6"
      },
      "execution_count": null,
      "outputs": [
        {
          "output_type": "stream",
          "name": "stdout",
          "text": [
            "[1, 2, 3, [4, 5]] len(a) = 4\n"
          ]
        }
      ]
    },
    {
      "cell_type": "code",
      "source": [
        "a=[1,2,3]\n",
        "a+=[4,5]\n",
        "print(a, \"len(a) =\", len(a) )"
      ],
      "metadata": {
        "colab": {
          "base_uri": "https://localhost:8080/"
        },
        "id": "_xQlEs0jobL4",
        "outputId": "fb68082d-8753-4a82-b0e8-711f313721ea"
      },
      "execution_count": null,
      "outputs": [
        {
          "output_type": "stream",
          "name": "stdout",
          "text": [
            "[1, 2, 3, 4, 5] len(a) = 5\n"
          ]
        }
      ]
    },
    {
      "cell_type": "code",
      "source": [
        "a=[1,2,3]\n",
        "a.insert(1, 100)\n",
        "print(a)"
      ],
      "metadata": {
        "colab": {
          "base_uri": "https://localhost:8080/"
        },
        "id": "Ak7B-E1Dojba",
        "outputId": "dc4134d7-f268-4feb-e12a-494b8095f6cf"
      },
      "execution_count": null,
      "outputs": [
        {
          "output_type": "stream",
          "name": "stdout",
          "text": [
            "[1, 100, 2, 3]\n"
          ]
        }
      ]
    },
    {
      "cell_type": "code",
      "source": [
        "a=[1,2,3]\n",
        "a.insert(1, [100, 200])\n",
        "print(a)"
      ],
      "metadata": {
        "colab": {
          "base_uri": "https://localhost:8080/"
        },
        "id": "vuvmTUKGoqmJ",
        "outputId": "a9aa59a9-87a5-498b-81aa-0f4e6a303145"
      },
      "execution_count": null,
      "outputs": [
        {
          "output_type": "stream",
          "name": "stdout",
          "text": [
            "[1, [100, 200], 2, 3]\n"
          ]
        }
      ]
    },
    {
      "cell_type": "code",
      "source": [
        "a= [1,2,3]\n",
        "b=[100,200]\n",
        "a[1:1]= b # 리스트 괄호가 사라짐, 인덱스 슬라이싱\n",
        "print(a)"
      ],
      "metadata": {
        "colab": {
          "base_uri": "https://localhost:8080/"
        },
        "id": "4acPCVBtovVC",
        "outputId": "abec32d3-da1b-4ad0-ecc0-1355c243bdaa"
      },
      "execution_count": null,
      "outputs": [
        {
          "output_type": "stream",
          "name": "stdout",
          "text": [
            "[1, 100, 200, 2, 3]\n"
          ]
        }
      ]
    },
    {
      "cell_type": "code",
      "source": [
        "a=[1,2,3]\n",
        "a.pop(1) # 오른쪽 부터 하나씩 제거해 간다\n",
        "print(a)\n",
        "# a.pop(index) index에 해당하는 숫자가 사라진다"
      ],
      "metadata": {
        "colab": {
          "base_uri": "https://localhost:8080/"
        },
        "id": "p8cuwDj0pM86",
        "outputId": "bd8bd52a-ad36-4b25-9141-929da5875ca6"
      },
      "execution_count": null,
      "outputs": [
        {
          "output_type": "stream",
          "name": "stdout",
          "text": [
            "[1, 3]\n"
          ]
        }
      ]
    },
    {
      "cell_type": "code",
      "source": [
        "a=[1,2,3,4,3,5,3]\n",
        "a.remove(3) # 가장 첫번째 것만 삭제된다\n",
        "print(a)\n",
        "a.remove(3)\n",
        "print(a)\n",
        "# remove 할거 없으면 에러 발생"
      ],
      "metadata": {
        "colab": {
          "base_uri": "https://localhost:8080/"
        },
        "id": "PpJgYADrpdpk",
        "outputId": "2878da83-535f-4fd4-cdb4-4d2305bb4016"
      },
      "execution_count": null,
      "outputs": [
        {
          "output_type": "stream",
          "name": "stdout",
          "text": [
            "[1, 2, 4, 3, 5, 3]\n",
            "[1, 2, 4, 5, 3]\n"
          ]
        }
      ]
    },
    {
      "cell_type": "code",
      "source": [
        "a= [1,2,3,4,5,3,5,6]\n",
        "a.index(3)\n",
        "# 인덱스를 알려주는 함수"
      ],
      "metadata": {
        "colab": {
          "base_uri": "https://localhost:8080/"
        },
        "id": "JBxQOcuMpnuR",
        "outputId": "c3fa769d-3997-49aa-e9e0-8e50a8662874"
      },
      "execution_count": null,
      "outputs": [
        {
          "output_type": "execute_result",
          "data": {
            "text/plain": [
              "2"
            ]
          },
          "metadata": {},
          "execution_count": 31
        }
      ]
    },
    {
      "cell_type": "code",
      "source": [
        "a=[1,2,3,4,5,6]\n",
        "a.reverse()\n",
        "print(a)"
      ],
      "metadata": {
        "colab": {
          "base_uri": "https://localhost:8080/"
        },
        "id": "KZrQFrWqp7Nk",
        "outputId": "498189af-1901-4579-fe0f-529538c29f9e"
      },
      "execution_count": null,
      "outputs": [
        {
          "output_type": "stream",
          "name": "stdout",
          "text": [
            "[6, 5, 4, 3, 2, 1]\n"
          ]
        }
      ]
    },
    {
      "cell_type": "code",
      "source": [
        "a=[1,5,1,2,6,1,7]\n",
        "a.sort(reverse =True) # 내림차순\n",
        "print(a)"
      ],
      "metadata": {
        "colab": {
          "base_uri": "https://localhost:8080/"
        },
        "id": "Q3YSZkYdqB0u",
        "outputId": "f3fde46b-b754-42f8-b42e-9311af3fdfbf"
      },
      "execution_count": null,
      "outputs": [
        {
          "output_type": "stream",
          "name": "stdout",
          "text": [
            "[7, 6, 5, 2, 1, 1, 1]\n"
          ]
        }
      ]
    },
    {
      "cell_type": "code",
      "source": [
        "a=[1,2,3]\n",
        "a.clear()\n",
        "print(a)"
      ],
      "metadata": {
        "colab": {
          "base_uri": "https://localhost:8080/"
        },
        "id": "p3xBmwYhqNoO",
        "outputId": "42ea76b4-59bd-4ab0-9726-f3273042250d"
      },
      "execution_count": null,
      "outputs": [
        {
          "output_type": "stream",
          "name": "stdout",
          "text": [
            "[]\n"
          ]
        }
      ]
    },
    {
      "cell_type": "code",
      "source": [
        "a=[1,2,3]\n",
        "del a\n",
        "print(a)"
      ],
      "metadata": {
        "colab": {
          "base_uri": "https://localhost:8080/",
          "height": 180
        },
        "id": "AjOTcgsTqS_b",
        "outputId": "b3896c17-c089-465f-de95-9ce16b7f559a"
      },
      "execution_count": null,
      "outputs": [
        {
          "output_type": "error",
          "ename": "NameError",
          "evalue": "name 'a' is not defined",
          "traceback": [
            "\u001b[0;31m---------------------------------------------------------------------------\u001b[0m",
            "\u001b[0;31mNameError\u001b[0m                                 Traceback (most recent call last)",
            "\u001b[0;32m<ipython-input-41-8b28fb973bb3>\u001b[0m in \u001b[0;36m<cell line: 3>\u001b[0;34m()\u001b[0m\n\u001b[1;32m      1\u001b[0m \u001b[0ma\u001b[0m\u001b[0;34m=\u001b[0m\u001b[0;34m[\u001b[0m\u001b[0;36m1\u001b[0m\u001b[0;34m,\u001b[0m\u001b[0;36m2\u001b[0m\u001b[0;34m,\u001b[0m\u001b[0;36m3\u001b[0m\u001b[0;34m]\u001b[0m\u001b[0;34m\u001b[0m\u001b[0;34m\u001b[0m\u001b[0m\n\u001b[1;32m      2\u001b[0m \u001b[0;32mdel\u001b[0m \u001b[0ma\u001b[0m\u001b[0;34m\u001b[0m\u001b[0;34m\u001b[0m\u001b[0m\n\u001b[0;32m----> 3\u001b[0;31m \u001b[0mprint\u001b[0m\u001b[0;34m(\u001b[0m\u001b[0ma\u001b[0m\u001b[0;34m)\u001b[0m\u001b[0;34m\u001b[0m\u001b[0;34m\u001b[0m\u001b[0m\n\u001b[0m",
            "\u001b[0;31mNameError\u001b[0m: name 'a' is not defined"
          ]
        }
      ]
    },
    {
      "cell_type": "code",
      "source": [
        "a=[1,2,3]\n",
        "b= a\n",
        "b[1]=10\n",
        "print(\"a=\", a, \"b=\", b) # a의 원본도 같이 바뀌어버림\n",
        "\n",
        "#b=a.copy()  b는 a의 사본임으로 명시해주어야 함\n"
      ],
      "metadata": {
        "colab": {
          "base_uri": "https://localhost:8080/"
        },
        "id": "Ya7EFs9ZqWWN",
        "outputId": "1ea559f5-0816-4eea-bf69-658a88716ad1"
      },
      "execution_count": null,
      "outputs": [
        {
          "output_type": "stream",
          "name": "stdout",
          "text": [
            "a= [1, 10, 3] b= [1, 10, 3]\n"
          ]
        }
      ]
    },
    {
      "cell_type": "code",
      "source": [
        "a=[1,2,3]\n",
        "b=a.copy()\n",
        "a is b # False--> 같이 바뀌지 않았다"
      ],
      "metadata": {
        "colab": {
          "base_uri": "https://localhost:8080/"
        },
        "id": "MtbSSRDDqsPj",
        "outputId": "3b7a875e-0dd9-4930-e140-055a636df61d"
      },
      "execution_count": null,
      "outputs": [
        {
          "output_type": "execute_result",
          "data": {
            "text/plain": [
              "False"
            ]
          },
          "metadata": {},
          "execution_count": 45
        }
      ]
    },
    {
      "cell_type": "code",
      "source": [
        "a=[1,2,3]\n",
        "print(sum(a))\n",
        "print(round(2.334444, 3)) # 정해진자리까지 반올림해서 출력하는 함수--> round\n"
      ],
      "metadata": {
        "colab": {
          "base_uri": "https://localhost:8080/"
        },
        "id": "RxA-82UKq3gg",
        "outputId": "c9604701-3b95-443f-c410-5166ee08644b"
      },
      "execution_count": null,
      "outputs": [
        {
          "output_type": "stream",
          "name": "stdout",
          "text": [
            "6\n",
            "2.334\n"
          ]
        }
      ]
    },
    {
      "cell_type": "markdown",
      "source": [
        "# 리스트 포현식"
      ],
      "metadata": {
        "id": "WHRaniVUrMUn"
      }
    },
    {
      "cell_type": "code",
      "source": [
        "a= [i+3 for i in range(3)] # 0,1,2, i 값으로 리스트를 형성한다, i 의 값으로 하나씩 쌓는다\n",
        "print(a)"
      ],
      "metadata": {
        "colab": {
          "base_uri": "https://localhost:8080/"
        },
        "id": "lapL5iaDrIpb",
        "outputId": "a309e3cd-f967-4db8-921a-924af39e893e"
      },
      "execution_count": null,
      "outputs": [
        {
          "output_type": "stream",
          "name": "stdout",
          "text": [
            "[3, 4, 5]\n"
          ]
        }
      ]
    },
    {
      "cell_type": "code",
      "source": [
        "a=[i-j for i in range(1,5) for j in range(1,5)] # 앞에서부터 읽어라\n",
        "print(a)"
      ],
      "metadata": {
        "colab": {
          "base_uri": "https://localhost:8080/"
        },
        "id": "QQiyTMKAsGJP",
        "outputId": "1ea7ef43-dd2f-4e05-a925-a4c0248b3237"
      },
      "execution_count": null,
      "outputs": [
        {
          "output_type": "stream",
          "name": "stdout",
          "text": [
            "[0, -1, -2, -3, 1, 0, -1, -2, 2, 1, 0, -1, 3, 2, 1, 0]\n"
          ]
        }
      ]
    },
    {
      "cell_type": "code",
      "source": [
        "a=[]\n",
        "for i in range(1,5):\n",
        "  for j in range(1,5):\n",
        "    a+=[i-j]\n",
        "print(a)\n",
        "#4*4=16, 16가지의 값이 출력된다\n",
        "# 변수는 무조건 앞에서 부터 그대로 가지고 온다!!"
      ],
      "metadata": {
        "colab": {
          "base_uri": "https://localhost:8080/"
        },
        "id": "i49suyVSseSz",
        "outputId": "0bf8ef36-95a6-4042-ff86-b5d9d2ad5466"
      },
      "execution_count": null,
      "outputs": [
        {
          "output_type": "stream",
          "name": "stdout",
          "text": [
            "[0, -1, -2, -3, 1, 0, -1, -2, 2, 1, 0, -1, 3, 2, 1, 0]\n"
          ]
        }
      ]
    },
    {
      "cell_type": "code",
      "source": [
        "a=[i for i in range(10) if i%2==0]# i 를 불러오고 그 중에서 i의 조건을 만족을 하는 i 만 리스트로\n",
        "print(a)"
      ],
      "metadata": {
        "colab": {
          "base_uri": "https://localhost:8080/"
        },
        "id": "ULvTnoGus2HQ",
        "outputId": "8b46f6db-a171-47ad-a945-05444756cde9"
      },
      "execution_count": null,
      "outputs": [
        {
          "output_type": "stream",
          "name": "stdout",
          "text": [
            "[0, 2, 4, 6, 8]\n"
          ]
        }
      ]
    },
    {
      "cell_type": "markdown",
      "source": [
        "# 리스트 속의 리스트리스트"
      ],
      "metadata": {
        "id": "p471EAhxtbo9"
      }
    },
    {
      "cell_type": "code",
      "source": [
        "a=[[1,2,3], [4,6]]\n",
        "# 2개의 리스트가 하나의 리스트 안에 묶여있다\n",
        "print(a, \"len(a)=\", len(a)) # len(a)=2\n",
        "b=[[1,2,3],\n",
        " [4,5,6]]\n",
        "print(b)"
      ],
      "metadata": {
        "colab": {
          "base_uri": "https://localhost:8080/"
        },
        "id": "ytcAK0QtteRB",
        "outputId": "2764842d-4897-4385-f5a0-158e85e2af5c"
      },
      "execution_count": null,
      "outputs": [
        {
          "output_type": "stream",
          "name": "stdout",
          "text": [
            "[[1, 2, 3], [4, 6]] len(a)= 2\n",
            "[[1, 2, 3], [4, 5, 6]]\n"
          ]
        }
      ]
    },
    {
      "cell_type": "code",
      "source": [
        "a=[[1,2,3], [4,6]]\n",
        "print(a[0])# 리스트안 첫번째거\n",
        "print(a[0][0])# 리스트 안 첫번째 안 첫번째\n",
        "print(a[0][1])\n",
        "\n",
        "\n",
        "a[1][1]=500\n",
        "print(a)"
      ],
      "metadata": {
        "colab": {
          "base_uri": "https://localhost:8080/"
        },
        "id": "1ZITuMO7uIk9",
        "outputId": "0dfd4eea-75b4-4ff6-9ea3-fc8b485790e7"
      },
      "execution_count": null,
      "outputs": [
        {
          "output_type": "stream",
          "name": "stdout",
          "text": [
            "[1, 2, 3]\n",
            "1\n",
            "2\n",
            "[[1, 2, 3], [4, 500]]\n"
          ]
        }
      ]
    },
    {
      "cell_type": "code",
      "source": [
        "a=[[1,2,3], [4,5,6]]\n",
        "for i in a:\n",
        "  print(i)\n",
        "\n",
        "for x,y,z in a:\n",
        "  print(x,y,z)\n",
        "  # 각 리스트 안 이스트 항목 수랑 맞혀주면 리스트 제거하면서 출력된다\n",
        "  # 한개씩 할당을 해주는 것 뿐이다\n",
        "\n",
        "for i in a:\n",
        "  for j in i:\n",
        "    print(j, end='') # 모든 리스트를 풀고 각각을 프린트, end=''-->한줄에 프린트\n",
        "print()\n",
        "\n",
        "for i in range(len(a)): # i 번째에 들어 있는 무언가\n",
        "  for j in range(len(a[i])):\n",
        "    print(a[i][j], end='')\n",
        "  print()\n"
      ],
      "metadata": {
        "colab": {
          "base_uri": "https://localhost:8080/"
        },
        "id": "C3k_E20nugrD",
        "outputId": "24c771f3-0943-4acb-aab4-546be9723de7"
      },
      "execution_count": null,
      "outputs": [
        {
          "output_type": "stream",
          "name": "stdout",
          "text": [
            "[1, 2, 3]\n",
            "[4, 5, 6]\n",
            "1 2 3\n",
            "4 5 6\n",
            "123456\n",
            "123\n",
            "456\n"
          ]
        }
      ]
    },
    {
      "cell_type": "code",
      "source": [
        "a=[[i for i in range(2)] for i in range(3)]\n",
        "print(a)"
      ],
      "metadata": {
        "colab": {
          "base_uri": "https://localhost:8080/"
        },
        "id": "9DE_Kh9NujCO",
        "outputId": "99cbe373-18f7-435f-b9c2-15ac17952b24"
      },
      "execution_count": null,
      "outputs": [
        {
          "output_type": "stream",
          "name": "stdout",
          "text": [
            "[[0, 1], [0, 1], [0, 1]]\n"
          ]
        }
      ]
    },
    {
      "cell_type": "code",
      "source": [
        "a=[[0 for _ in range(2)]for _ in range(3)]\n",
        "# _을 처리를 하면 그냥 꺼내서 확인할 수 있음\n",
        "print(a)"
      ],
      "metadata": {
        "colab": {
          "base_uri": "https://localhost:8080/"
        },
        "id": "4zEEG2JHRxke",
        "outputId": "d64902da-bd14-4435-8e4e-17ac65eda152"
      },
      "execution_count": null,
      "outputs": [
        {
          "output_type": "stream",
          "name": "stdout",
          "text": [
            "[[0, 0], [0, 0], [0, 0]]\n"
          ]
        }
      ]
    },
    {
      "cell_type": "code",
      "source": [
        "a = [[0]*2 for _ in range(3)]\n",
        "print(a)\n",
        "b=[[0]*2]*3\n",
        "print(b)"
      ],
      "metadata": {
        "colab": {
          "base_uri": "https://localhost:8080/"
        },
        "id": "AVTKOPECSXFK",
        "outputId": "358f611c-46a6-4d1e-c743-9863b5a489da"
      },
      "execution_count": null,
      "outputs": [
        {
          "output_type": "stream",
          "name": "stdout",
          "text": [
            "[[0, 0], [0, 0], [0, 0]]\n",
            "[[0, 0], [0, 0], [0, 0]]\n"
          ]
        }
      ]
    },
    {
      "cell_type": "code",
      "source": [
        "a=[3,1,2,3]\n",
        "b=[]\n",
        "for i in a:\n",
        "  for j in range(i):\n",
        "    line+="
      ],
      "metadata": {
        "colab": {
          "base_uri": "https://localhost:8080/",
          "height": 109
        },
        "id": "vZEUd-ZjSt0d",
        "outputId": "e794d2eb-f7f5-4a6c-aabc-09350f104f3d"
      },
      "execution_count": null,
      "outputs": [
        {
          "output_type": "error",
          "ename": "SyntaxError",
          "evalue": "incomplete input (<ipython-input-12-3e505559aeb4>, line 3)",
          "traceback": [
            "\u001b[0;36m  File \u001b[0;32m\"<ipython-input-12-3e505559aeb4>\"\u001b[0;36m, line \u001b[0;32m3\u001b[0m\n\u001b[0;31m    for i in a:\u001b[0m\n\u001b[0m               ^\u001b[0m\n\u001b[0;31mSyntaxError\u001b[0m\u001b[0;31m:\u001b[0m incomplete input\n"
          ]
        }
      ]
    },
    {
      "cell_type": "markdown",
      "source": [
        "# print 응용\n"
      ],
      "metadata": {
        "id": "0FJW_9PWS8Nv"
      }
    },
    {
      "cell_type": "code",
      "source": [
        "a=1\n",
        "b=2\n",
        "c='ㅋㅋ'\n",
        "\n",
        "print(\"a=\", a, \"b=\", b, \"c=\", c)\n"
      ],
      "metadata": {
        "colab": {
          "base_uri": "https://localhost:8080/"
        },
        "id": "MzqGYJKkSxvQ",
        "outputId": "ad278e15-d9d0-4398-d09e-5478d051c38c"
      },
      "execution_count": null,
      "outputs": [
        {
          "output_type": "stream",
          "name": "stdout",
          "text": [
            "a= 1 b= 2 c= ㅋㅋ\n"
          ]
        }
      ]
    },
    {
      "cell_type": "code",
      "source": [
        "a=1\n",
        "b=2\n",
        "c='ㅋㅋ'\n",
        "\n",
        "# format을 사용하는 방법\n",
        "print(\"a={0}, b={2}, c={1}\".format(a,b,c))\n",
        "#format 이랑 {} 은 항상 같이 간다\n",
        "\n",
        "print(\"a={num1}, b={num2}, c={str1}\".format(num2=2, num1=1, str1=\"ㅋㅋ\"))\n",
        "# 굳이 순서에 안 맞혀 써도 유형에 따라서 프린트가 된다\n",
        "\n",
        "\n"
      ],
      "metadata": {
        "colab": {
          "base_uri": "https://localhost:8080/"
        },
        "id": "qUNURdyUtsZx",
        "outputId": "46f58dad-0632-4083-8e91-8055b137ab48"
      },
      "execution_count": null,
      "outputs": [
        {
          "output_type": "stream",
          "name": "stdout",
          "text": [
            "a=1, b=ㅋㅋ, c=2\n",
            "a=1, b=2, c=ㅋㅋ\n"
          ]
        }
      ]
    },
    {
      "cell_type": "code",
      "source": [
        "# 가장 쉬운 방법 함수 사용하기\n",
        "\n",
        "a=1\n",
        "b=2\n",
        "c='ㅋㅋ'\n",
        "\n",
        "print(f\"a={a}, b={b}, c={c}\")\n",
        "\n",
        "#위에서 넣은 c 함수를 그대로 넣을 수 있음\n"
      ],
      "metadata": {
        "colab": {
          "base_uri": "https://localhost:8080/"
        },
        "id": "Ib1OAQkHusJM",
        "outputId": "ce37168c-b337-4ec0-f569-8311353a2d5e"
      },
      "execution_count": null,
      "outputs": [
        {
          "output_type": "stream",
          "name": "stdout",
          "text": [
            "a=1, b=2, c=ㅋㅋ\n"
          ]
        }
      ]
    },
    {
      "cell_type": "markdown",
      "source": [
        "# 텍스트 파일 만들고 쓰기"
      ],
      "metadata": {
        "id": "YL-kiqfUvQFY"
      }
    },
    {
      "cell_type": "code",
      "source": [
        "import os # 모듈\n",
        "folder_name = \"saved\"\n",
        "if not os.path.exists(folder_name):\n",
        "  os.makedirs(folder_name)\n",
        "# saved에 생성됨\n",
        "# 구글 드라이브로 연동하기\n",
        "\n",
        "with open(\"saved/Hello.txt\", \"w\") as f: # 열린 채로 실행하라, 나가면 자동으로 close\n",
        "  f.write(\"Hello World\\n\") # 텍스트 write\n",
        "  f.write(\"Hello World!\\n\")\n",
        "  f.write(\"Hello World!\\n\")\n",
        "  f.write(\"Hello World!\\n\")"
      ],
      "metadata": {
        "id": "vXTOv6VCvSiH"
      },
      "execution_count": null,
      "outputs": []
    },
    {
      "cell_type": "code",
      "source": [
        "with open(\"saved/Hello.txt\", \"r\")as f:\n",
        "  for i in range(3):\n",
        "    s=f.readline() #readline--> 한줄씩 출력한다\n",
        "    print(s)\n",
        "\n",
        "len(s) # 각 줄의 len을 읽어준다\n",
        "\n",
        "\n",
        "# s=f.readlines()--> readlines: 모든 줄을 다 읽어서 하나의 리스트 안에 append 한다."
      ],
      "metadata": {
        "colab": {
          "base_uri": "https://localhost:8080/"
        },
        "id": "PV-ICo9Gv8Ao",
        "outputId": "ba8df40e-fb29-4f69-8326-73e62a328146"
      },
      "execution_count": null,
      "outputs": [
        {
          "output_type": "stream",
          "name": "stdout",
          "text": [
            "Hello World\n",
            "\n",
            "Hello World!\n",
            "\n",
            "Hello World!\n",
            "\n"
          ]
        },
        {
          "output_type": "execute_result",
          "data": {
            "text/plain": [
              "13"
            ]
          },
          "metadata": {},
          "execution_count": 24
        }
      ]
    },
    {
      "cell_type": "code",
      "source": [
        "with open(\"saved/Hello.txt\", \"r\") as f:\n",
        "  line= None     # None으로 해야 공백과 구별이 돼서 while이 돈다.\n",
        "  while line!= \"\": # 빈 라인이 나오기 전까지 프린트 해라\n",
        "    line = f.readline()\n",
        "    print(line, end=\"\")"
      ],
      "metadata": {
        "colab": {
          "base_uri": "https://localhost:8080/"
        },
        "id": "aiKr1IDQy4b2",
        "outputId": "7ba8faa1-5ed7-49a1-c4ea-d51eb4b63fbd"
      },
      "execution_count": null,
      "outputs": [
        {
          "output_type": "stream",
          "name": "stdout",
          "text": [
            "Hello World\n",
            "Hello World!\n",
            "Hello World!\n",
            "Hello World!\n"
          ]
        }
      ]
    },
    {
      "cell_type": "markdown",
      "source": [
        "# 코딩의 꽃! 함수"
      ],
      "metadata": {
        "id": "tdHhq3_rz7-y"
      }
    },
    {
      "cell_type": "code",
      "source": [
        "def f(x): # x 라는 이름의 변수를 입력으로 받아서 x**2를 출력하는 f\n",
        "   return x**2\n",
        "\n",
        "\n",
        "f(-2) # 함수를 호출--> return 값을 반환"
      ],
      "metadata": {
        "colab": {
          "base_uri": "https://localhost:8080/"
        },
        "id": "TEJvgcRdz7SP",
        "outputId": "a4544c27-9efe-408a-f7ca-25de36d89e9f"
      },
      "execution_count": null,
      "outputs": [
        {
          "output_type": "execute_result",
          "data": {
            "text/plain": [
              "4"
            ]
          },
          "metadata": {},
          "execution_count": 32
        }
      ]
    },
    {
      "cell_type": "code",
      "source": [
        "def say():\n",
        "   print(\"Hello world!\")\n",
        "\n",
        "say()\n"
      ],
      "metadata": {
        "id": "giJWTHMq009Q",
        "colab": {
          "base_uri": "https://localhost:8080/"
        },
        "outputId": "a51bb266-11d9-4925-f7a5-b5eaebfae926"
      },
      "execution_count": null,
      "outputs": [
        {
          "output_type": "stream",
          "name": "stdout",
          "text": [
            "Hello world!\n"
          ]
        }
      ]
    },
    {
      "cell_type": "code",
      "source": [
        "def add(a,b):\n",
        "  print(a+b)\n",
        "\n",
        "add(1,2)\n"
      ],
      "metadata": {
        "colab": {
          "base_uri": "https://localhost:8080/"
        },
        "id": "B_3g36TPYWqu",
        "outputId": "1402a7c1-dc3a-49a5-cd3f-d0c949b4dc6c"
      },
      "execution_count": null,
      "outputs": [
        {
          "output_type": "stream",
          "name": "stdout",
          "text": [
            "3\n"
          ]
        }
      ]
    },
    {
      "cell_type": "code",
      "source": [
        "def add(a,b):\n",
        "  return a+b\n",
        "\n",
        "c= add(1,2)\n",
        "# print 와의 차이점은 다른 값으로 넣을 수 있다는 것!\n",
        "print(c)"
      ],
      "metadata": {
        "colab": {
          "base_uri": "https://localhost:8080/"
        },
        "id": "KbLt3TjAYccU",
        "outputId": "cfa5778c-8903-4590-b384-7f8f525cb4b3"
      },
      "execution_count": null,
      "outputs": [
        {
          "output_type": "stream",
          "name": "stdout",
          "text": [
            "3\n"
          ]
        }
      ]
    },
    {
      "cell_type": "code",
      "source": [
        "def add(a,b):\n",
        "  c= (a+b)**b  # 복잡한 연산도 가능\n",
        "  return c\n",
        "add(1,2)\n",
        "\n",
        "print(c) # a,b,c 변수명은 함수 안에서만 쓰인다!"
      ],
      "metadata": {
        "colab": {
          "base_uri": "https://localhost:8080/",
          "height": 180
        },
        "id": "5qVWwl6NYr49",
        "outputId": "a96a4286-c096-40ed-c1f0-b78303cebdca"
      },
      "execution_count": null,
      "outputs": [
        {
          "output_type": "error",
          "ename": "NameError",
          "evalue": "name 'c' is not defined",
          "traceback": [
            "\u001b[0;31m---------------------------------------------------------------------------\u001b[0m",
            "\u001b[0;31mNameError\u001b[0m                                 Traceback (most recent call last)",
            "\u001b[0;32m<ipython-input-4-0525245b0ed2>\u001b[0m in \u001b[0;36m<cell line: 6>\u001b[0;34m()\u001b[0m\n\u001b[1;32m      4\u001b[0m \u001b[0madd\u001b[0m\u001b[0;34m(\u001b[0m\u001b[0;36m1\u001b[0m\u001b[0;34m,\u001b[0m\u001b[0;36m2\u001b[0m\u001b[0;34m)\u001b[0m\u001b[0;34m\u001b[0m\u001b[0;34m\u001b[0m\u001b[0m\n\u001b[1;32m      5\u001b[0m \u001b[0;34m\u001b[0m\u001b[0m\n\u001b[0;32m----> 6\u001b[0;31m \u001b[0mprint\u001b[0m\u001b[0;34m(\u001b[0m\u001b[0mc\u001b[0m\u001b[0;34m)\u001b[0m \u001b[0;31m# a,b,c 변수명은 함수 안에서만 쓰인다!\u001b[0m\u001b[0;34m\u001b[0m\u001b[0;34m\u001b[0m\u001b[0m\n\u001b[0m",
            "\u001b[0;31mNameError\u001b[0m: name 'c' is not defined"
          ]
        }
      ]
    },
    {
      "cell_type": "code",
      "source": [
        "# call by assignment\n",
        "def f(x):\n",
        "  x[0] =5\n",
        "\n",
        "a=[1,2]\n",
        "f(a)\n",
        "print(a) # 변하는 경우--> 내부에서 리스트 자체에 접근하면 속 값이 밖에서도 변한다(call by assignment)\n"
      ],
      "metadata": {
        "colab": {
          "base_uri": "https://localhost:8080/"
        },
        "id": "CsJ34g2zZdDw",
        "outputId": "1078b033-d58c-40ff-ab61-b9b38ebf004b"
      },
      "execution_count": null,
      "outputs": [
        {
          "output_type": "stream",
          "name": "stdout",
          "text": [
            "[5, 2]\n"
          ]
        }
      ]
    },
    {
      "cell_type": "code",
      "source": [
        "# call bt assignment\n",
        "def f(x):\n",
        "  x =5\n",
        "\n",
        "a=3\n",
        "f(a)\n",
        "print(a) # 변하지 않는다"
      ],
      "metadata": {
        "colab": {
          "base_uri": "https://localhost:8080/"
        },
        "id": "L3ix3GtZY9Yb",
        "outputId": "3ba4f16c-9656-4dc3-947e-b16da914928e"
      },
      "execution_count": null,
      "outputs": [
        {
          "output_type": "stream",
          "name": "stdout",
          "text": [
            "3\n"
          ]
        }
      ]
    },
    {
      "cell_type": "code",
      "source": [
        "def add_sub(a,b):\n",
        "  c=a+b\n",
        "  d=a-b\n",
        "  return c,d # 복수 출력 가능\n",
        "\n",
        "x,y = add_sub(10,20) # 하나로 받으면 튜플로 묶어서 준다\n",
        "\n",
        "print(x,y)"
      ],
      "metadata": {
        "colab": {
          "base_uri": "https://localhost:8080/"
        },
        "id": "xIb_gruIaFpo",
        "outputId": "29ac8173-e46c-4fe2-940b-96394391342f"
      },
      "execution_count": null,
      "outputs": [
        {
          "output_type": "stream",
          "name": "stdout",
          "text": [
            "30 -10\n"
          ]
        }
      ]
    },
    {
      "cell_type": "code",
      "source": [
        "def add(a,b):#4\n",
        "  return a+b#5\n",
        "\n",
        "def mul(a,b):#7\n",
        "  return a*b#8\n",
        "\n",
        "def show_addmul(a,b): #2\n",
        "  print(add(a,b))#3\n",
        "  print(mul(a,b))#6\n",
        "\n",
        "show_addmul(2,4) # 실행가능 --> 5번 줄로 가서 실행한다. #1"
      ],
      "metadata": {
        "colab": {
          "base_uri": "https://localhost:8080/"
        },
        "id": "f5h6CsQMacGV",
        "outputId": "9a145ad8-7379-4577-8889-1b08caa6c70f"
      },
      "execution_count": null,
      "outputs": [
        {
          "output_type": "stream",
          "name": "stdout",
          "text": [
            "6\n",
            "8\n"
          ]
        }
      ]
    },
    {
      "cell_type": "code",
      "source": [
        "x = (10,20)\n",
        "print(x)\n",
        "print(*x) # unpacking --> 소괄호를 없애주는 역할\n",
        "\n",
        "show_addmul(*x) #뜯어서 준거니까 괜춘"
      ],
      "metadata": {
        "colab": {
          "base_uri": "https://localhost:8080/"
        },
        "id": "A9lUJpDDbnzS",
        "outputId": "c32885e7-0cd8-4520-e42e-2f19c0513298"
      },
      "execution_count": null,
      "outputs": [
        {
          "output_type": "stream",
          "name": "stdout",
          "text": [
            "(10, 20)\n",
            "10 20\n",
            "30\n",
            "200\n"
          ]
        }
      ]
    },
    {
      "cell_type": "code",
      "source": [
        "def my_func(*a): # *a는 튜플로 패킹되어 있다 --> unpacking\n",
        "  print(f\"a에는 {a}가 들어있다. 타입은 {type(a)} 라고 한다\")\n",
        "\n",
        "my_func(2,3,4,5,6,7) # 개수에 상관없이 그냥 무조건 다 들어가서 적용 가능"
      ],
      "metadata": {
        "colab": {
          "base_uri": "https://localhost:8080/"
        },
        "id": "jXPmI3ppcj--",
        "outputId": "ea81fac3-f311-4706-cfec-c89cabed8e05"
      },
      "execution_count": null,
      "outputs": [
        {
          "output_type": "stream",
          "name": "stdout",
          "text": [
            "a에는 (2, 3, 4, 5, 6, 7)가 들어있다. 타입은 <class 'tuple'> 라고 한다\n"
          ]
        }
      ]
    },
    {
      "cell_type": "code",
      "source": [
        "def my_func(*args):\n",
        "  print(f\"args에는 {args} 가 들어가 있다. 타입은 {type(args)}이다. \")\n",
        "  for i in args:\n",
        "    print(i)\n",
        "\n",
        "my_func(2,3,4,5,6,7,6,5,4)"
      ],
      "metadata": {
        "colab": {
          "base_uri": "https://localhost:8080/"
        },
        "id": "DqUOG74xdWRA",
        "outputId": "76225e59-f575-4472-e51c-38cc529f141c"
      },
      "execution_count": null,
      "outputs": [
        {
          "output_type": "stream",
          "name": "stdout",
          "text": [
            "args에는 (2, 3, 4, 5, 6, 7, 6, 5, 4) 가 들어가 있다. 타입은 <class 'tuple'>이다. \n",
            "2\n",
            "3\n",
            "4\n",
            "5\n",
            "6\n",
            "7\n",
            "6\n",
            "5\n",
            "4\n"
          ]
        }
      ]
    },
    {
      "cell_type": "code",
      "source": [
        "def introduce(name, age, address):\n",
        "  print(f\"이름은 {name} 이고 나이는 {age}살이고 사는데는 {address} 이다\")\n",
        "\n",
        "introduce(\"이승현\", 21, \"서울\")\n",
        "\n",
        "introduce(name= \"이승현\", age= 21, address = \"한국\")\n",
        "\n",
        "name = \"이승현\"\n",
        "age = 21\n",
        "address = \"Korea\"\n",
        "\n",
        "\n",
        "\n",
        "\n",
        "# 오른쪽은 밖에 있는 name , 왼쪽은 함수 안에 들어있는 변수\n",
        "introduce(name= name, age= age, address = address)\n",
        "\n",
        " # 순서가 헷살리는 경우 아예 명시를 해버리자"
      ],
      "metadata": {
        "colab": {
          "base_uri": "https://localhost:8080/"
        },
        "id": "1ChGw8Ke23Yr",
        "outputId": "032152aa-7123-4283-8ddc-85bcb2bbdf3a"
      },
      "execution_count": null,
      "outputs": [
        {
          "output_type": "stream",
          "name": "stdout",
          "text": [
            "이름은 이승현 이고 나이는 21살이고 사는데는 서울 이다\n",
            "이름은 이승현 이고 나이는 21살이고 사는데는 한국 이다\n",
            "이름은 이승현 이고 나이는 21살이고 사는데는 Korea 이다\n"
          ]
        }
      ]
    },
    {
      "cell_type": "code",
      "source": [
        "def introduce1(name, age, address):\n",
        "  print(f\"이름은 {name} 이고 나이는 {age}살이고 사는데는 {address} 이다\")\n",
        "\n",
        "\n",
        "def introduce2(name, age=\"비밀\", address=\"비밀\"): # 디폴트 값이다\n",
        "  print(f\"이름은 {name} 이고 나이는 {age}살이고 사는데는 {address} 이다\")\n",
        "\n",
        "\n",
        "#introduce1(name =\"혁펜\") 에러\n",
        "introduce2(name =\"혁펜\", age =1) # name은 반드시 줘야함\n",
        "\n",
        "introduce()"
      ],
      "metadata": {
        "colab": {
          "base_uri": "https://localhost:8080/",
          "height": 198
        },
        "id": "xEpp0cKs3mqs",
        "outputId": "bcb9fb10-5619-46e6-a0ea-4f6c469b1835"
      },
      "execution_count": null,
      "outputs": [
        {
          "output_type": "stream",
          "name": "stdout",
          "text": [
            "이름은 혁펜 이고 나이는 1살이고 사는데는 비밀 이다\n"
          ]
        },
        {
          "output_type": "error",
          "ename": "NameError",
          "evalue": "name 'introduce' is not defined",
          "traceback": [
            "\u001b[0;31m---------------------------------------------------------------------------\u001b[0m",
            "\u001b[0;31mNameError\u001b[0m                                 Traceback (most recent call last)",
            "\u001b[0;32m<ipython-input-1-6311187d6ae9>\u001b[0m in \u001b[0;36m<cell line: 12>\u001b[0;34m()\u001b[0m\n\u001b[1;32m     10\u001b[0m \u001b[0mintroduce2\u001b[0m\u001b[0;34m(\u001b[0m\u001b[0mname\u001b[0m \u001b[0;34m=\u001b[0m\u001b[0;34m\"혁펜\"\u001b[0m\u001b[0;34m,\u001b[0m \u001b[0mage\u001b[0m \u001b[0;34m=\u001b[0m\u001b[0;36m1\u001b[0m\u001b[0;34m)\u001b[0m \u001b[0;31m# name은 반드시 줘야함\u001b[0m\u001b[0;34m\u001b[0m\u001b[0;34m\u001b[0m\u001b[0m\n\u001b[1;32m     11\u001b[0m \u001b[0;34m\u001b[0m\u001b[0m\n\u001b[0;32m---> 12\u001b[0;31m \u001b[0mintroduce\u001b[0m\u001b[0;34m(\u001b[0m\u001b[0;34m)\u001b[0m\u001b[0;34m\u001b[0m\u001b[0;34m\u001b[0m\u001b[0m\n\u001b[0m",
            "\u001b[0;31mNameError\u001b[0m: name 'introduce' is not defined"
          ]
        }
      ]
    },
    {
      "cell_type": "code",
      "source": [
        "def introduce4(name = \"비밀\", age =\"비밀\", address = \"비밀\"):\n",
        "  print(f\"이름은 {name}이고 나이는 {age}살이고 사는데는 {address}이다 \")\n",
        "\n",
        "\n",
        "\n",
        "d= {\"name\": \"혁펜\", \"age\": 100, \"address\": \"한국\"}\n",
        "\n",
        "print(*d)\n",
        "introduce4(*d) # introduce4(\"name\",\"age\", \"address\")와 동일\n",
        "\n",
        "print({**d})\n",
        "introduce4(**d) # introduce4(name = \"혁펜\", age = 100, address = \"한국\") ** 은 value 값을 적절하게 안에 넣을  수 있음\n",
        "\n",
        "print(*(1,2,3))\n",
        "\n"
      ],
      "metadata": {
        "colab": {
          "base_uri": "https://localhost:8080/"
        },
        "id": "WoCPVbsZ702u",
        "outputId": "0aa98e62-a95b-4ec3-a660-71a6b5db7136"
      },
      "execution_count": null,
      "outputs": [
        {
          "output_type": "stream",
          "name": "stdout",
          "text": [
            "name age address\n",
            "이름은 name이고 나이는 age살이고 사는데는 address이다 \n",
            "{'name': '혁펜', 'age': 100, 'address': '한국'}\n",
            "이름은 혁펜이고 나이는 100살이고 사는데는 한국이다 \n",
            "1 2 3\n"
          ]
        }
      ]
    },
    {
      "cell_type": "code",
      "source": [
        "def my_func(**k): # kwargs : keyword arguments. 딕셔너리로 묶어받는다\n",
        "\n",
        "  print(f\"k에는 {k}가 들어가야 한다 {type(k)}\") # 딕셔너리 형태로 입력\n",
        "\n",
        "my_func(name = \"혁펜\" ,age =  100, address = \"한국\" ) # 딕셔너리 형태로 들어간다\n"
      ],
      "metadata": {
        "colab": {
          "base_uri": "https://localhost:8080/"
        },
        "id": "PwMYMlFk-UgV",
        "outputId": "6587f310-0fce-437f-9cdd-be059e8f450e"
      },
      "execution_count": null,
      "outputs": [
        {
          "output_type": "stream",
          "name": "stdout",
          "text": [
            "k에는 {'name': '혁펜', 'age': 100, 'address': '한국'}가 들어가야 한다 <class 'dict'>\n"
          ]
        }
      ]
    },
    {
      "cell_type": "markdown",
      "source": [
        "#keyword argument\n"
      ],
      "metadata": {
        "id": "YrpsVzAS3CSi"
      }
    },
    {
      "cell_type": "code",
      "source": [
        "def print_info(**kwargs):\n",
        "    for key, value in kwargs.items():\n",
        "        print(f\"{key}: {value}\")\n",
        "\n",
        "# 가변 키워드 인수 사용\n",
        "print_info(name=\"Alice\", age=30, city=\"New York\")\n",
        "# 출력:\n",
        "# name: Alice\n",
        "# age: 30\n",
        "# city: New York\n",
        "#**kwargs를 사용하면 함수는 임의의 수의 키워드"
      ],
      "metadata": {
        "colab": {
          "base_uri": "https://localhost:8080/"
        },
        "id": "21_B-Sa6_YVd",
        "outputId": "672498d1-a6cc-49d0-c965-20498054d56d"
      },
      "execution_count": null,
      "outputs": [
        {
          "output_type": "stream",
          "name": "stdout",
          "text": [
            "name: Alice\n",
            "age: 30\n",
            "city: New York\n"
          ]
        }
      ]
    },
    {
      "cell_type": "code",
      "source": [
        "def introduce(**kwargs):\n",
        "  if \"name\" in kwargs: # 네임 키가 있다면\n",
        "    print(\"이름은\" ,  kwargs[\"name\"] ,  \"입니다\")\n",
        "  if \"age\" in kwargs: # 네임 키가 있다면\n",
        "    print(\"나이는\" , kwargs[\"age\"] , \"입니다\")\n",
        "  if \"address\" in kwargs: # 네임 키가 있다면\n",
        "    print(\"주소는\" , kwargs[\"address\"] , \"입니다\")\n",
        "\n",
        "introduce(name = \"혁펜\", age = 14, address = \"한국\")\n",
        "introduce(name =\"혁펜\") # 선으로 입력한 값도 아예 뜨지 않는다\n",
        "\n",
        "\n",
        " # 변수가 여러개를 가지고 있고 넘겨주고 싶을 때\n",
        " # 사용 시에만 인덱스 잘하기\n"
      ],
      "metadata": {
        "colab": {
          "base_uri": "https://localhost:8080/"
        },
        "id": "TrUdyns-_jvl",
        "outputId": "575b72a9-30a5-49f9-ffc3-c111cd5fd395"
      },
      "execution_count": null,
      "outputs": [
        {
          "output_type": "stream",
          "name": "stdout",
          "text": [
            "이름은 혁펜 입니다\n",
            "나이는 14 입니다\n",
            "주소는 한국 입니다\n",
            "이름은 혁펜 입니다\n"
          ]
        }
      ]
    },
    {
      "cell_type": "markdown",
      "source": [
        "# 로컬 변수와 글로벌 변수"
      ],
      "metadata": {
        "id": "OpW-TQ3aBPRw"
      }
    },
    {
      "cell_type": "code",
      "source": [
        "EPOCH = 2\n",
        "BATCH  = 5 # 글로벌 변수\n",
        "\n",
        "def train(weight): # weight는 매개변수, 여기서 weight =0 을 실행\n",
        "\n",
        "    # x=1  # x는 로컬 변수\n",
        "    for i in range(EPOCH): # 글로변 변수는 안에서도 사용 가능\n",
        "       for j in range(BATCH):\n",
        "        print(f\"{i}번쨰 epoch 이며 {j }번쨰 batch 이다 \")\n",
        "        weight +=1\n",
        "    return weight\n",
        "\n",
        "train(0)\n",
        "print(x) # 밖에서는 x 가 효능이 없다\n",
        "\n",
        "\n",
        "\n",
        "\n",
        "\n",
        "\n"
      ],
      "metadata": {
        "colab": {
          "base_uri": "https://localhost:8080/"
        },
        "id": "oCMenXoJBSLe",
        "outputId": "86f3ae55-79a9-45e2-fb5c-4b26db7d7b9d"
      },
      "execution_count": null,
      "outputs": [
        {
          "output_type": "stream",
          "name": "stdout",
          "text": [
            "0번쨰 epoch 이며 0번쨰 batch 이다 \n",
            "0번쨰 epoch 이며 1번쨰 batch 이다 \n",
            "0번쨰 epoch 이며 2번쨰 batch 이다 \n",
            "0번쨰 epoch 이며 3번쨰 batch 이다 \n",
            "0번쨰 epoch 이며 4번쨰 batch 이다 \n",
            "1번쨰 epoch 이며 0번쨰 batch 이다 \n",
            "1번쨰 epoch 이며 1번쨰 batch 이다 \n",
            "1번쨰 epoch 이며 2번쨰 batch 이다 \n",
            "1번쨰 epoch 이며 3번쨰 batch 이다 \n",
            "1번쨰 epoch 이며 4번쨰 batch 이다 \n"
          ]
        },
        {
          "output_type": "execute_result",
          "data": {
            "text/plain": [
              "10"
            ]
          },
          "metadata": {},
          "execution_count": 33
        }
      ]
    },
    {
      "cell_type": "code",
      "source": [
        "def f():\n",
        "  global x\n",
        "  x=20\n",
        "  print(x)\n",
        "\n",
        "f()\n",
        "print(x) # 안에 있어도 실행가능하다\n",
        "\n"
      ],
      "metadata": {
        "colab": {
          "base_uri": "https://localhost:8080/"
        },
        "id": "DSWIH_2ANHrB",
        "outputId": "e7c6252f-1737-4947-82be-1fb83bf5d779"
      },
      "execution_count": null,
      "outputs": [
        {
          "output_type": "stream",
          "name": "stdout",
          "text": [
            "20\n",
            "20\n"
          ]
        }
      ]
    },
    {
      "cell_type": "code",
      "source": [
        "x=10\n",
        "def f():\n",
        "  x= 100 # 안에서 수정하는거 아님 완전 다른 거임\n",
        "  print(x)\n",
        "\n",
        "f() # 로컬변수\n",
        "print(x) # 여기서는 글로벌 변수가 출력이된다\n",
        "\n",
        "# 이름은 같아서 저장되는 메모리 자체가 다름 수정 아님"
      ],
      "metadata": {
        "colab": {
          "base_uri": "https://localhost:8080/"
        },
        "id": "CKC89bwwOKfa",
        "outputId": "5cff7474-97b8-48d2-f5c1-721abeae0b67"
      },
      "execution_count": null,
      "outputs": [
        {
          "output_type": "stream",
          "name": "stdout",
          "text": [
            "100\n",
            "10\n"
          ]
        }
      ]
    },
    {
      "cell_type": "code",
      "source": [
        "x=10\n",
        "def f():\n",
        "  global x\n",
        "  x=20\n",
        "  print(x)\n",
        "f()\n",
        "print(x) # global 로 선언을 하고 변경하면 바뀐다 근데 그냥 하면 다른 변수로 알아야 함"
      ],
      "metadata": {
        "colab": {
          "base_uri": "https://localhost:8080/"
        },
        "id": "4_kl_5cYOfha",
        "outputId": "f1552333-685a-49dd-c4c6-1ad6924fba36"
      },
      "execution_count": null,
      "outputs": [
        {
          "output_type": "stream",
          "name": "stdout",
          "text": [
            "20\n",
            "20\n"
          ]
        }
      ]
    },
    {
      "cell_type": "markdown",
      "source": [
        "## 람다 표현식"
      ],
      "metadata": {
        "id": "HEa3mdb21AEM"
      }
    },
    {
      "cell_type": "code",
      "source": [
        "def plus_ten(x):\n",
        "  return x+10\n",
        "plus_ten(10)\n"
      ],
      "metadata": {
        "colab": {
          "base_uri": "https://localhost:8080/"
        },
        "id": "Dag-nRGkOzHv",
        "outputId": "a7dfff80-9ae7-4f7f-f410-a815d47fd940"
      },
      "execution_count": null,
      "outputs": [
        {
          "output_type": "execute_result",
          "data": {
            "text/plain": [
              "20"
            ]
          },
          "metadata": {},
          "execution_count": 49
        }
      ]
    },
    {
      "cell_type": "code",
      "source": [
        "plus_ten = lambda x : x+10 #입력: 출력\n",
        "plus_ten(10)\n"
      ],
      "metadata": {
        "colab": {
          "base_uri": "https://localhost:8080/"
        },
        "id": "2jFiU5pN1Ft7",
        "outputId": "9396ac59-1427-41d2-80c7-8563508af14d"
      },
      "execution_count": null,
      "outputs": [
        {
          "output_type": "execute_result",
          "data": {
            "text/plain": [
              "20"
            ]
          },
          "metadata": {},
          "execution_count": 56
        }
      ]
    },
    {
      "cell_type": "code",
      "source": [
        "(lambda x: x+10)(10) # (lambda 괄호 식)(실제 대입하는 값)"
      ],
      "metadata": {
        "colab": {
          "base_uri": "https://localhost:8080/"
        },
        "id": "gIpblmGk2C5O",
        "outputId": "5cf2259a-2c1e-48dd-de4e-b0977c0b4f1e"
      },
      "execution_count": null,
      "outputs": [
        {
          "output_type": "execute_result",
          "data": {
            "text/plain": [
              "20"
            ]
          },
          "metadata": {},
          "execution_count": 59
        }
      ]
    },
    {
      "cell_type": "code",
      "source": [
        "def plus_ten(x):\n",
        "  return x+10\n",
        "\n",
        "print(list(map(plus_ten, [1,2,3]))) #map 함수: list(map(함수, 리스트1)) = 리스트2 안의\n",
        "# 함수와 변수를 한번에 묶는다, 단 프린트 형식은 변수랑 맞춰주기\n",
        "\n",
        "print(list(map(lambda x : x+10, [1,2,3])))"
      ],
      "metadata": {
        "colab": {
          "base_uri": "https://localhost:8080/"
        },
        "id": "gm-1l6UG2QQT",
        "outputId": "72d0a510-ae82-4987-92f8-df81ddb1c8af"
      },
      "execution_count": null,
      "outputs": [
        {
          "output_type": "stream",
          "name": "stdout",
          "text": [
            "[11, 12, 13]\n",
            "[11, 12, 13]\n"
          ]
        }
      ]
    },
    {
      "cell_type": "code",
      "source": [
        "f = lambda a,b: a+b\n",
        "\n",
        "f(10,20)\n"
      ],
      "metadata": {
        "colab": {
          "base_uri": "https://localhost:8080/"
        },
        "id": "r0CTcyw_2hIk",
        "outputId": "94d17d7c-fec9-41de-9980-ded0033a6e66"
      },
      "execution_count": null,
      "outputs": [
        {
          "output_type": "execute_result",
          "data": {
            "text/plain": [
              "30"
            ]
          },
          "metadata": {},
          "execution_count": 65
        }
      ]
    },
    {
      "cell_type": "code",
      "source": [
        "list(map(f,[1,2,3], [3,4,5])) # 변수 2 개이면 리스트도 2개 입력"
      ],
      "metadata": {
        "colab": {
          "base_uri": "https://localhost:8080/"
        },
        "id": "yHrRR40c3vLm",
        "outputId": "890e1eed-7c8e-491b-8584-24dfd180ec49"
      },
      "execution_count": null,
      "outputs": [
        {
          "output_type": "execute_result",
          "data": {
            "text/plain": [
              "[4, 6, 8]"
            ]
          },
          "metadata": {},
          "execution_count": 67
        }
      ]
    },
    {
      "cell_type": "code",
      "source": [
        "def add_1(a,b):\n",
        "  c=1\n",
        "  return a+b+c\n",
        "\n",
        "\n",
        "print(add_1(10,20))\n",
        "\n",
        "(lambda a,b:a+b)(10,20)\n",
        "\n",
        "#list(map(lambda a,b: c=1, a+b+c, [10,20,]))\n",
        "# 원래는 로컬변수를 설정할 수 있는데 lambda에서는 로컬변수를 설정할 수 없음\n",
        "\n",
        "# DEFINE\n"
      ],
      "metadata": {
        "colab": {
          "base_uri": "https://localhost:8080/"
        },
        "id": "fkCLZp4l4B1G",
        "outputId": "c7493fcf-bf04-49d0-e76a-54c939dd87a6"
      },
      "execution_count": null,
      "outputs": [
        {
          "output_type": "stream",
          "name": "stdout",
          "text": [
            "31\n"
          ]
        },
        {
          "output_type": "execute_result",
          "data": {
            "text/plain": [
              "30"
            ]
          },
          "metadata": {},
          "execution_count": 75
        }
      ]
    },
    {
      "cell_type": "code",
      "source": [
        "def add_mul(a,b):\n",
        "  return a+b, a*b\n",
        "\n",
        "add_mul(10,20)\n",
        "\n",
        "#lambda a,b : a+b\n",
        "\n",
        "#lambda(10,20)\n",
        "\n",
        "\n"
      ],
      "metadata": {
        "colab": {
          "base_uri": "https://localhost:8080/"
        },
        "id": "FSC5Be3Y5Gm2",
        "outputId": "426ebeed-d70f-4c15-eee4-a45fee4ff063"
      },
      "execution_count": null,
      "outputs": [
        {
          "output_type": "execute_result",
          "data": {
            "text/plain": [
              "(30, 200)"
            ]
          },
          "metadata": {},
          "execution_count": 80
        }
      ]
    },
    {
      "cell_type": "code",
      "source": [
        "def func(x):\n",
        "  if x%2==0:\n",
        "    return 2**x\n",
        "  else:\n",
        "    return x\n",
        "\n",
        "print(list(map(func,[1,2,3,4])))\n",
        "\n",
        "f1 =  lambda x: 2**x if x%2 ==0 else None # None 을 하면 그냥 x자체를 프린트해서 준다\n",
        "f2 =  lambda x: 2**x if x%2 ==0 else x # else 를 반드시 넣어줘야함\n",
        "\n",
        "print(list(map(f1, [1,2,3,4])))\n",
        "print(list(map(f2, [1,2,3,4])))\n",
        "\n",
        "# 원래 f1,f2에서는 x, 하나의 변수만 들어올 수 있는데 map을 활용하면서 리스트를 변수로 넣을 수 있게 됨"
      ],
      "metadata": {
        "colab": {
          "base_uri": "https://localhost:8080/"
        },
        "id": "K7845fjH5IO4",
        "outputId": "ebccfbf0-947f-479f-9b0c-def8c2178c70"
      },
      "execution_count": null,
      "outputs": [
        {
          "output_type": "stream",
          "name": "stdout",
          "text": [
            "[1, 4, 3, 16]\n",
            "[None, 4, None, 16]\n",
            "[1, 4, 3, 16]\n"
          ]
        }
      ]
    },
    {
      "cell_type": "code",
      "source": [
        "def func(x):\n",
        "  if x==1:\n",
        "    return 2**x\n",
        "  elif x==2:\n",
        "    return 3**x\n",
        "  else:\n",
        "    return x\n",
        "\n",
        "print(list(map(func, [1,2,3,4])))\n",
        "\n",
        "\n",
        "f = lambda x: 2**x if x==1  else 3**x if x==2 else x\n",
        "\n",
        "#elif 를 대신해서 계속해서 else\n",
        "# if else if else if else .... (반복)\n",
        "\n",
        "print(list(map(f, [1,2,3,4])))"
      ],
      "metadata": {
        "colab": {
          "base_uri": "https://localhost:8080/"
        },
        "id": "mWrMMR0BDkO9",
        "outputId": "24b41204-c79e-428f-91fa-701dfcd09279"
      },
      "execution_count": null,
      "outputs": [
        {
          "output_type": "stream",
          "name": "stdout",
          "text": [
            "[2, 9, 3, 4]\n",
            "[2, 9, 3, 4]\n"
          ]
        }
      ]
    },
    {
      "cell_type": "markdown",
      "source": [
        "# 클래스\n"
      ],
      "metadata": {
        "id": "KZp7_va1GkV9"
      }
    },
    {
      "cell_type": "code",
      "source": [
        "# 로봇을 만든다고 해보자 -> 로봇의 속성(키, 몸무게, 기능, 특성, 손을 흔들면서 안녕이라고 인사)\n",
        "# 클래스는 좀 큰 변수를 만든다고 봐야...(규칙)\n",
        "# a에 숫자, 리스트, 그것들을 가지고 뭔가 기능을 하는 함수를 만들자!\n",
        "# 객체(object) 지향(oriented) 프로그래밍 (programming)\n",
        "\n",
        "\n",
        "class Robot:\n",
        "  def greeting(self): # 메서드(클래스 내부 함수), 첫번쨰 매개변수는 무조건 self!(인스턴스 자기자신)\n",
        "    print(\"Hello\")\n",
        "\n",
        "\n",
        "bot1 = Robot() # Robot 이라는 클래스에 해당하는 instance(실체), 특정 기능(툴)을 실제로 찍은 친구\n",
        "bot1.greeting() # instance(실체).method()-> 너무 중요\n",
        "#쩜은 이놈이 가지고 있는 메소드만 콜 할게~~\n",
        "\n"
      ],
      "metadata": {
        "colab": {
          "base_uri": "https://localhost:8080/"
        },
        "id": "ZUpTmRivGmGG",
        "outputId": "8a9ecf28-c705-4548-9257-1dfdb2acdb9b"
      },
      "execution_count": null,
      "outputs": [
        {
          "output_type": "stream",
          "name": "stdout",
          "text": [
            "Hello\n"
          ]
        }
      ]
    },
    {
      "cell_type": "code",
      "source": [
        "a=[1,2,3] # 인스턴스 형성\n",
        "a.append(1) #인스턴스.메소드 실행 class 안에 append라는 함수가 있구나 ~~\n",
        "print(a)\n",
        "print(type(a))"
      ],
      "metadata": {
        "colab": {
          "base_uri": "https://localhost:8080/"
        },
        "id": "R8ZMeMcYIXk3",
        "outputId": "aefdfa2e-11fe-4cff-ca3a-271e9cc71d01"
      },
      "execution_count": null,
      "outputs": [
        {
          "output_type": "stream",
          "name": "stdout",
          "text": [
            "[1, 2, 3, 1]\n",
            "<class 'list'>\n"
          ]
        }
      ]
    },
    {
      "cell_type": "code",
      "source": [
        "class Robot:\n",
        "  def __init__(self):# initialize, 인스턴스 생성 즉시, 이 함수부터 실행(1빠)\n",
        "  # 이 함수명은 약속도니 이름이다(special method)\n",
        "    print(\"__init__으로 들어옴\")\n",
        "bot1 = Robot()\n",
        "# 만드는 순간 들어오기 때문에 따로 인스턴스.메소드()하고 메소드를 호출할 필요가 없다\n"
      ],
      "metadata": {
        "colab": {
          "base_uri": "https://localhost:8080/"
        },
        "id": "OifbnMrVIpiB",
        "outputId": "1103ea99-0a19-46d6-c529-83ec04a85d6f"
      },
      "execution_count": null,
      "outputs": [
        {
          "output_type": "stream",
          "name": "stdout",
          "text": [
            "__init__으로 들어옴\n"
          ]
        }
      ]
    },
    {
      "cell_type": "code",
      "source": [
        "class Robot:\n",
        "  def __init__(self):\n",
        "    self.sentence  = \"안녕 \"\n",
        "    # sentence = \"안녕\", 내가 가진 주머니에 변수생성, 값 넣기\n",
        "    #자기자신 안 주머니에 안녕을 넣는다\n",
        "    #self.--> 내부의 것을 가르키는 것\n",
        "    #클래스 내부의 변수는 속성이라고 한다(self)\n",
        "\n",
        "  def greeting(self):\n",
        "    sentence = 1\n",
        "    print(sentence) #error! 발생! 주머니에서 sentence를 꺼내서 print 해야한다\n",
        "    # 아니면 greeting method 안에서 sentence 에 대한 정의를 내려주면 괜춘\n",
        "    print(\"sentence\")# 이거랑 헷갈리지 말기!\n",
        "    print(self.sentence)\n",
        "\n",
        "bot1 = Robot()\n",
        "bot1.greeting()\n",
        "# 주머니에서 sentence를 꺼내서 실행"
      ],
      "metadata": {
        "colab": {
          "base_uri": "https://localhost:8080/"
        },
        "id": "mVUL4sElIsSk",
        "outputId": "c1764cf6-136b-4a7d-f60b-cc6fca08546f"
      },
      "execution_count": null,
      "outputs": [
        {
          "output_type": "stream",
          "name": "stdout",
          "text": [
            "1\n",
            "sentence\n",
            "안녕 \n"
          ]
        }
      ]
    },
    {
      "cell_type": "code",
      "source": [
        "class Robot:\n",
        "    def __init__(self, height, sentence): # 밖에서 가지고 오는 인스턴스는 항상 self 뒤로\n",
        "      self.height = height  # self 안에 height 라는 주머니에 밖의 height를 부여\n",
        "      self.sentence = sentence # self 안 sentence 라는 주머니에 sentence라는 값을 부여\n",
        "\n",
        "    def greeting(self):\n",
        "      print(self.height)\n",
        "      print(self.sentence) # 반드시 주머니 안에 값을 넣었으면 주머니를 호출하자\n",
        "\n",
        "\n",
        "bot1 = Robot(180, \"안녕\") # 이 값들은 밖에서 가져온 값들임\n",
        "bot1.greeting()\n",
        "\n",
        "\n",
        "print(bot1.height)\n",
        "\n",
        "bot1.height -= 10\n",
        "bot1.greeting()\n",
        "\n",
        "# 틀로 많은 변수들을 찍어낼 수 있다는 것이 장점\n",
        "bot2 = Robot(230, \"Hello\")\n",
        "bot2.greeting()\n",
        "\n",
        "bot2.sentence = \"안녕\"\n",
        "\n",
        "bot2.greeting()\n",
        "\n"
      ],
      "metadata": {
        "colab": {
          "base_uri": "https://localhost:8080/"
        },
        "id": "XqseOFbCJhQ7",
        "outputId": "01a73bba-0a4c-428d-9f79-1bf828c3a90f"
      },
      "execution_count": null,
      "outputs": [
        {
          "output_type": "stream",
          "name": "stdout",
          "text": [
            "180\n",
            "안녕\n",
            "180\n",
            "170\n",
            "안녕\n",
            "230\n",
            "Hello\n",
            "230\n",
            "안녕\n"
          ]
        }
      ]
    },
    {
      "cell_type": "code",
      "source": [
        "class Robot:\n",
        "    def __init__(self, height, sentence): # 밖에서 가지고 오는 인스턴스는 항상 self 뒤로\n",
        "      self.__height = height  # self 안에 height 라는 주머니에 밖의 height를 부여\n",
        "      #__변수 -->숨기기\n",
        "      self.sentence = sentence # self 안 sentence 라는 주머니에 sentence라는 값을 부여\n",
        "\n",
        "    def greeting(self):\n",
        "      self.__height -= 10\n",
        "      print(self.height)\n",
        "      print(self.sentence) # 반드시 주머니 안에 값을 넣었으면 주머니를 호출하자\n",
        "      print(f\"제 키는 {self.height}입니다\")\n",
        "\n",
        "bot1 = Robot(180, \"hi\")\n",
        "#bot1.greeting()\n",
        "\n",
        "print(bot1.sentence)\n",
        "#print(bot1.height) # 속성이 아예 보이지를 않음\n",
        "\n",
        "# __ : 밖에서 아예 접근이 안됨\n",
        "\n",
        "\n",
        "\n"
      ],
      "metadata": {
        "colab": {
          "base_uri": "https://localhost:8080/"
        },
        "id": "V1Bef_GPnzTd",
        "outputId": "83ff359f-c90c-4989-da39-9c0f69128b84"
      },
      "execution_count": null,
      "outputs": [
        {
          "output_type": "stream",
          "name": "stdout",
          "text": [
            "hi\n"
          ]
        }
      ]
    },
    {
      "cell_type": "code",
      "source": [
        "# 상속 --> 효율화\n",
        "\n",
        "class Robot:\n",
        "    def greeting(self):\n",
        "        print(\"안녕하세요\")\n",
        "\n",
        "\n",
        "class Study_bot(Robot): # class Robot을 상속받는다 --> 함수 사용 가능(greeting)(method)\n",
        "    def study(self):\n",
        "        print(\"열심열심 !!\")\n",
        "\n",
        "\n",
        "bot = Study_bot()\n",
        "bot.greeting() # greeting method 를 상속받음\n",
        "\n"
      ],
      "metadata": {
        "colab": {
          "base_uri": "https://localhost:8080/"
        },
        "id": "4OH5RIKhpfM3",
        "outputId": "f2d0af4e-27b4-4c6e-bdfb-d2d928c3bb99"
      },
      "execution_count": null,
      "outputs": [
        {
          "output_type": "stream",
          "name": "stdout",
          "text": [
            "안녕하세요\n"
          ]
        }
      ]
    },
    {
      "cell_type": "code",
      "source": [
        "# 메서드 오버라이딩(overriding)\n",
        "\n",
        "\n",
        "class Robot:\n",
        "    def greeting(self):\n",
        "        print(\"안녕하세요\")\n",
        "\n",
        "\n",
        "class Study_bot(Robot): # class Robot을 상속받는다 --> 함수 사용 가능(greeting)(method)\n",
        "    def study(self): # 부모의 greeting을 물려받음 그러나 자식에서도 greeting\n",
        "        print(\"공부하는 로봇입니다\")\n",
        "\n",
        "    def greeting(self):\n",
        "        super().greeting() # super()가 부모 클래스를 가리킴 # 부모가 가지는 greeting을 실행\n",
        "        print(\"하하\")\n",
        "\n",
        "bot = Study_bot()\n",
        "bot.greeting() # 자식함수 실행\n",
        "\n",
        "\n",
        "#super().부모메서드()\n"
      ],
      "metadata": {
        "colab": {
          "base_uri": "https://localhost:8080/"
        },
        "id": "B9h6LEkerhNH",
        "outputId": "5f62bd10-67cc-46e1-95ef-a40fc60d1969"
      },
      "execution_count": null,
      "outputs": [
        {
          "output_type": "stream",
          "name": "stdout",
          "text": [
            "안녕하세요\n",
            "하하\n"
          ]
        }
      ]
    },
    {
      "cell_type": "code",
      "source": [
        "class Robot:\n",
        "    def func1(self):\n",
        "        print(\"부모 클래스 실행 완\")\n",
        "        self.money = 100\n",
        "\n",
        "\n",
        "class Robot_baby(Robot):\n",
        "    def func2(self):\n",
        "        print(\"자식 실행 완\")\n",
        "        self.book = 10\n",
        "\n",
        "bot1 = Robot_baby()\n",
        "\n",
        "bot1.func1()\n",
        "bot1.func2()\n",
        "\n",
        "print(bot1.book)\n",
        "bot1.func1() # 부모 함수를 실행해야 부모의 속성도 가지고 온다!\n",
        "print(bot1.money) # 자식 클래스에서 끌어올려면 적어도 부모 클래스가 한번은 실행이 되어야 꺼내올 수 있음\n"
      ],
      "metadata": {
        "colab": {
          "base_uri": "https://localhost:8080/"
        },
        "id": "dBPVMVMlsfik",
        "outputId": "64488b30-5fc9-426a-e143-9fb5cc9e9cc2"
      },
      "execution_count": null,
      "outputs": [
        {
          "output_type": "stream",
          "name": "stdout",
          "text": [
            "부모 클래스 실행 완\n",
            "자식 실행 완\n",
            "10\n",
            "부모 클래스 실행 완\n",
            "100\n"
          ]
        }
      ]
    },
    {
      "cell_type": "code",
      "source": [
        "# 딥러닝 코드에서는 아래와 같은 코드를 많이 보게 된다\n",
        "\n",
        "class Robot:\n",
        "    def __init__(self):\n",
        "        print(\"부모 클래스 실행 완\")\n",
        "        self.money = 100\n",
        "\n",
        "\n",
        "class Study_bot(Robot):\n",
        "    def __init__(self):\n",
        "        super().__init__() # __init__상속 받을 것을 다 받기 위해서\n",
        "        # 아니면 __init__떄문에 오버라이딩이 되서 출력이 안되는 사태가 발생\n",
        "        print(\"자식 완\")\n",
        "        self.book = 10\n",
        "\n",
        "\n",
        "bot_parent = Robot()\n",
        "print(bot_parent.money) # 부모 클래스 실행\n",
        "\n",
        "bot = Study_bot()\n",
        "print(bot.book)\n",
        "\n",
        "# bot.__init__()\n",
        "# print(bot.money)"
      ],
      "metadata": {
        "colab": {
          "base_uri": "https://localhost:8080/"
        },
        "id": "hMf08UuXtxdd",
        "outputId": "5e8302e0-405b-453e-b0d2-0453d75c62b8"
      },
      "execution_count": null,
      "outputs": [
        {
          "output_type": "stream",
          "name": "stdout",
          "text": [
            "부모 클래스 실행 완\n",
            "100\n",
            "부모 클래스 실행 완\n",
            "자식 완\n",
            "10\n"
          ]
        }
      ]
    },
    {
      "cell_type": "code",
      "source": [
        "class Robot:\n",
        "    def greeting(self):\n",
        "        print(\"로봇입니다\")\n",
        "\n",
        "class Life:\n",
        "    def eat(self):\n",
        "        print(\"냠냠\")\n",
        "\n",
        "class Study_bot(Robot, Life):\n",
        "    def study(self):\n",
        "        print(\"열심\")\n",
        "\n",
        "bot = Study_bot()\n",
        "bot.greeting()\n",
        "bot.eat()\n",
        "bot.study() # 여러개 상속 가능\n",
        "\n"
      ],
      "metadata": {
        "colab": {
          "base_uri": "https://localhost:8080/"
        },
        "id": "g80DpfANv-Zx",
        "outputId": "9a0e0935-3149-42ae-9433-736c5deb82b5"
      },
      "execution_count": null,
      "outputs": [
        {
          "output_type": "stream",
          "name": "stdout",
          "text": [
            "로봇입니다\n",
            "냠냠\n",
            "열심\n"
          ]
        }
      ]
    },
    {
      "cell_type": "markdown",
      "source": [
        "# 이터레이터"
      ],
      "metadata": {
        "id": "k5nAURxCxCzh"
      }
    },
    {
      "cell_type": "code",
      "source": [
        "a=[1,2,3]\n",
        "a = iter(a)\n",
        "print(a)\n",
        "print(type(a)) # 리스트\n",
        "\n",
        "print(next(a))\n",
        "print(next(a))\n",
        "print(next(a))\n",
        "# next(변수명): iter 뭐시기의 값이 순차적으로 출력된다\n",
        "print(next(a)) # 다 꺼내면 에러 발생 # 이터레이터 끝"
      ],
      "metadata": {
        "colab": {
          "base_uri": "https://localhost:8080/",
          "height": 270
        },
        "id": "Uy8UvJw3xEOE",
        "outputId": "7ff30916-12f3-4b51-847c-58c2d10c36c1"
      },
      "execution_count": null,
      "outputs": [
        {
          "output_type": "stream",
          "name": "stdout",
          "text": [
            "<list_iterator object at 0x79c3b41e2080>\n",
            "<class 'list_iterator'>\n",
            "1\n",
            "2\n",
            "3\n"
          ]
        },
        {
          "output_type": "error",
          "ename": "StopIteration",
          "evalue": "",
          "traceback": [
            "\u001b[0;31m---------------------------------------------------------------------------\u001b[0m",
            "\u001b[0;31mStopIteration\u001b[0m                             Traceback (most recent call last)",
            "\u001b[0;32m<ipython-input-71-1cc0469c173e>\u001b[0m in \u001b[0;36m<cell line: 10>\u001b[0;34m()\u001b[0m\n\u001b[1;32m      8\u001b[0m \u001b[0mprint\u001b[0m\u001b[0;34m(\u001b[0m\u001b[0mnext\u001b[0m\u001b[0;34m(\u001b[0m\u001b[0ma\u001b[0m\u001b[0;34m)\u001b[0m\u001b[0;34m)\u001b[0m\u001b[0;34m\u001b[0m\u001b[0;34m\u001b[0m\u001b[0m\n\u001b[1;32m      9\u001b[0m \u001b[0;31m# next(변수명): iter 뭐시기의 값이 순차적으로 출력된다\u001b[0m\u001b[0;34m\u001b[0m\u001b[0;34m\u001b[0m\u001b[0m\n\u001b[0;32m---> 10\u001b[0;31m \u001b[0mprint\u001b[0m\u001b[0;34m(\u001b[0m\u001b[0mnext\u001b[0m\u001b[0;34m(\u001b[0m\u001b[0ma\u001b[0m\u001b[0;34m)\u001b[0m\u001b[0;34m)\u001b[0m \u001b[0;31m# 다 꺼내면 에러 발생 # 이터레이터 끝\u001b[0m\u001b[0;34m\u001b[0m\u001b[0;34m\u001b[0m\u001b[0m\n\u001b[0m",
            "\u001b[0;31mStopIteration\u001b[0m: "
          ]
        }
      ]
    },
    {
      "cell_type": "code",
      "source": [
        "for i in iter([1,2,3]):\n",
        "    print(i)"
      ],
      "metadata": {
        "colab": {
          "base_uri": "https://localhost:8080/"
        },
        "id": "2JEW2k0bxjzk",
        "outputId": "4ab1bb96-c506-43a3-8a7d-e9295945108b"
      },
      "execution_count": null,
      "outputs": [
        {
          "output_type": "stream",
          "name": "stdout",
          "text": [
            "1\n",
            "2\n",
            "3\n"
          ]
        }
      ]
    },
    {
      "cell_type": "code",
      "source": [
        "a= [1,2,3]\n",
        "a_i = next(iter(a)) # 인덱스 첫번째 거 # 한 숫갈 뜰때 좋다!\n",
        "print(a_i)"
      ],
      "metadata": {
        "colab": {
          "base_uri": "https://localhost:8080/"
        },
        "id": "GcGHoD8Fxv4Q",
        "outputId": "033b031a-1fbd-4ecf-c69a-569004bc2032"
      },
      "execution_count": null,
      "outputs": [
        {
          "output_type": "stream",
          "name": "stdout",
          "text": [
            "1\n"
          ]
        }
      ]
    }
  ]
}